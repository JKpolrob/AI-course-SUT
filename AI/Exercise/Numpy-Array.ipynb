{
 "cells": [
  {
   "cell_type": "code",
   "execution_count": 3,
   "metadata": {},
   "outputs": [
    {
     "name": "stdout",
     "output_type": "stream",
     "text": [
      "Dimension of a : 2 \n",
      "Size of a : (2, 3) \n",
      "Type of a : int32\n"
     ]
    }
   ],
   "source": [
    "import numpy as np\n",
    "a = np.array([[1, 2, 3],[4, 5, 6]])\n",
    "print(\"Dimension of a :\", a.ndim,\"\\nSize of a :\",a.shape,'\\nType of a :',a.dtype)"
   ]
  },
  {
   "cell_type": "code",
   "execution_count": 10,
   "metadata": {},
   "outputs": [
    {
     "name": "stdout",
     "output_type": "stream",
     "text": [
      "Dimension of a : 2 \n",
      "Size of a : (2, 3) \n",
      "Type of a : float32\n"
     ]
    }
   ],
   "source": [
    "a = np.array([[1, 2, 3],[4, 5, 6]],dtype = np.float32)\n",
    "print(\"Dimension of a :\", a.ndim,\"\\nSize of a :\",a.shape,'\\nType of a :',a.dtype)"
   ]
  },
  {
   "cell_type": "code",
   "execution_count": 18,
   "metadata": {},
   "outputs": [
    {
     "name": "stdout",
     "output_type": "stream",
     "text": [
      "Matrix ones :\n",
      " [[1. 1. 1. 1.]\n",
      " [1. 1. 1. 1.]\n",
      " [1. 1. 1. 1.]]\n",
      "Matrix zeros :\n",
      " [[0. 0.]\n",
      " [0. 0.]]\n",
      "Matrix identity :\n",
      " [[1 0 0 0]\n",
      " [0 1 0 0]\n",
      " [0 0 1 0]\n",
      " [0 0 0 1]]\n"
     ]
    }
   ],
   "source": [
    "b = np.ones([3,4])\n",
    "c = np.zeros([2,2])\n",
    "d = np.identity(4,dtype = np.int32)\n",
    "print('Matrix ones :\\n',b)\n",
    "print('Matrix zeros :\\n',c)\n",
    "print('Matrix identity :\\n',d)"
   ]
  },
  {
   "cell_type": "code",
   "execution_count": 22,
   "metadata": {},
   "outputs": [
    {
     "name": "stdout",
     "output_type": "stream",
     "text": [
      "np.arange\n",
      " [ 1  3  5  7  9 11 13 15 17 19 21 23 25 27 29 31 33 35 37 39 41 43 45 47\n",
      " 49 51 53 55 57 59 61 63 65 67 69 71 73 75 77 79]\n",
      "np.linspace\n",
      " [ 1.          2.6122449   4.2244898   5.83673469  7.44897959  9.06122449\n",
      " 10.67346939 12.28571429 13.89795918 15.51020408 17.12244898 18.73469388\n",
      " 20.34693878 21.95918367 23.57142857 25.18367347 26.79591837 28.40816327\n",
      " 30.02040816 31.63265306 33.24489796 34.85714286 36.46938776 38.08163265\n",
      " 39.69387755 41.30612245 42.91836735 44.53061224 46.14285714 47.75510204\n",
      " 49.36734694 50.97959184 52.59183673 54.20408163 55.81632653 57.42857143\n",
      " 59.04081633 60.65306122 62.26530612 63.87755102 65.48979592 67.10204082\n",
      " 68.71428571 70.32653061 71.93877551 73.55102041 75.16326531 76.7755102\n",
      " 78.3877551  80.        ]\n"
     ]
    }
   ],
   "source": [
    "#ค่าเริ่มต้น ค่าสุดท้าย การเพิ่มขึ้น\n",
    "e = np.arange(1,80,2)\n",
    "print(\"np.arange\\n\",e)\n",
    "#ค่าเริ่มต้น ค่าสุดท้าย จำนวนค่าในช่วง\n",
    "f = np.linspace(1,80,50)\n",
    "print(\"np.linspace\\n\",f)"
   ]
  },
  {
   "cell_type": "code",
   "execution_count": 34,
   "metadata": {},
   "outputs": [
    {
     "name": "stdout",
     "output_type": "stream",
     "text": [
      "np.concatenate\n",
      " [[1. 1.]\n",
      " [1. 1.]\n",
      " [1. 1.]\n",
      " [0. 0.]\n",
      " [0. 0.]\n",
      " [0. 0.]\n",
      " [0. 0.]]\n",
      "np.concatenate\n",
      " [[0. 0. 0. 0. 0. 1. 1. 1.]\n",
      " [0. 0. 0. 0. 0. 1. 1. 1.]\n",
      " [0. 0. 0. 0. 0. 1. 1. 1.]\n",
      " [0. 0. 0. 0. 0. 1. 1. 1.]]\n",
      "C= B.astype(np.int32)\n",
      " [[0 0 0 0 0 1 1 1]\n",
      " [0 0 0 0 0 1 1 1]\n",
      " [0 0 0 0 0 1 1 1]\n",
      " [0 0 0 0 0 1 1 1]]\n"
     ]
    }
   ],
   "source": [
    "#เพิ่มอถวเข้าไปต่อท้าย โดยหลักต้องเท่ากัน\n",
    "A1 = np.ones([3,2])\n",
    "A2 = np.zeros([4,2])\n",
    "B = np.concatenate([A1,A2])\n",
    "print(\"np.concatenate\\n\",B)\n",
    "#เพิ่มหลักเข้าไปต่อท้าย โดยแถวต้องเท่ากัน\n",
    "A1 = np.ones([4,3])\n",
    "A2 = np.zeros([4,5])\n",
    "B = np.concatenate([A2,A1], axis = 1)\n",
    "print(\"np.concatenate\\n\",B)\n",
    "#เปลี่ยนชนิดของ Matrix B\n",
    "C= B.astype(np.int32)\n",
    "print(\"C= B.astype(np.int32)\\n\",C)"
   ]
  },
  {
   "cell_type": "code",
   "execution_count": 44,
   "metadata": {},
   "outputs": [
    {
     "name": "stdout",
     "output_type": "stream",
     "text": [
      "No Change\n",
      " [[1 2 3]\n",
      " [4 5 6]]\n",
      "np.zeros_like(B1)\n",
      " [[0 0 0]\n",
      " [0 0 0]]\n",
      "np.ones_like(B1)\n",
      " [[1 1 1]\n",
      " [1 1 1]]\n",
      "random\n",
      " [[0.39323252 0.36685139 0.22275623 0.15240118 0.09881666]\n",
      " [0.23936484 0.20948727 0.64390473 0.9975305  0.68443308]\n",
      " [0.09303028 0.4910897  0.84106083 0.2500643  0.7054809 ]\n",
      " [0.51528305 0.48493205 0.67100394 0.85363984 0.29047235]]\n",
      "Change Type to int\n",
      " [[0 0 0 0 0]\n",
      " [0 0 0 0 0]\n",
      " [0 0 0 0 0]\n",
      " [0 0 0 0 0]]\n"
     ]
    }
   ],
   "source": [
    "#copy ขนาดของ Matrixเพิ่มสร้าง 0 หรือ 1\n",
    "B1 = np.array([[1,2,3],[4,5,6]],dtype = np.int32)\n",
    "print(\"No Change\\n\",B1)\n",
    "B2 = np.zeros_like(B1)\n",
    "B3 = np.ones_like(B1)\n",
    "print(\"np.zeros_like(B1)\\n\",B2)\n",
    "print(\"np.ones_like(B1)\\n\",B3)\n",
    "\n",
    "#matrix ที่บอกขนาดแล้วจะ random ค่าออกมาให้โดยมีค่าตั้งแต่ 0-1\n",
    "C1 = np.random.random([4,5])\n",
    "C2 = C1.astype(np.int32)\n",
    "print(\"random\\n\",C1)\n",
    "print(\"Change Type to int\\n\",C2)"
   ]
  },
  {
   "cell_type": "code",
   "execution_count": 73,
   "metadata": {},
   "outputs": [
    {
     "name": "stdout",
     "output_type": "stream",
     "text": [
      "random\n",
      " [1 2 3 4 5 6]\n",
      "Sixe of D1\n",
      " 6\n",
      "Mean of D1\n",
      " 3.5\n",
      "Max of D1\n",
      " 6\n",
      "Min of D1\n",
      " 1\n",
      "reshape D2\n",
      " [[1 2 3]\n",
      " [4 5 6]]\n",
      "reshape D3\n",
      " [[1 2 3]\n",
      " [4 5 6]]\n",
      "revel D4\n",
      " [1 2 3 4 5 6]\n"
     ]
    }
   ],
   "source": [
    "#สร้าง Array ขึ้นมา\n",
    "D1 = np.linspace(1,6,6, dtype = np.int32)\n",
    "print(\"random\\n\",D1)\n",
    "#เช็คว่ามีกี่ Array\n",
    "D11 = D1.size \n",
    "D12 = D1.mean()\n",
    "D13 = D1.max()\n",
    "D14 = D1.min()\n",
    "print(\"Sixe of D1\\n\",D11)\n",
    "print(\"Mean of D1\\n\",D12)\n",
    "print(\"Max of D1\\n\",D13)\n",
    "print(\"Min of D1\\n\",D14)\n",
    "#การ reshape จะต้องมีขนาดของมิติเท่ากับจำนวน Array\n",
    "D2 = D1.reshape(2,3)\n",
    "print(\"reshape D2\\n\",D2)\n",
    "#การใส่ -1 ไว้ตรง แถว หรือ หลัก หมายความว่า จัดมาให้เลยเท่าไหร่ก็ได้ของให้ได้ตามจำนวน แถว หรือ หลักที่เรากำหนด\n",
    "D3 = D1.reshape(2,-1)\n",
    "print(\"reshape D3\\n\",D3)\n",
    "#ของแค่ 1 แถว \n",
    "D4 = D1.ravel()\n",
    "print(\"revel D4\\n\",D4)"
   ]
  },
  {
   "cell_type": "code",
   "execution_count": 80,
   "metadata": {},
   "outputs": [
    {
     "name": "stdout",
     "output_type": "stream",
     "text": [
      "[0 1 2 3 4 5 6 7 8 9]\n",
      "[[0 1]\n",
      " [2 3]\n",
      " [4 5]\n",
      " [6 7]\n",
      " [8 9]]\n",
      "[[0 2 4 6 8]\n",
      " [1 3 5 7 9]]\n"
     ]
    }
   ],
   "source": [
    "E1 = np.arange(10)\n",
    "print(E1)\n",
    "#แปลงเป็น 5 แถว 2 หลัก\n",
    "E1 = E1.reshape(5,2)\n",
    "print(E1)\n",
    "#หรือจะเขียน . กันเลยก็จะให้ค่าสุดท้ายเหมือนกัน E1 = np.arange(10).reshape(5,2)\n",
    "\n",
    "#การทำ Transpose หรือขจะใช้ E1 = E1.transpose([1,0]) \n",
    "E1 = E1.T \n",
    "\n",
    "print(E1)"
   ]
  },
  {
   "cell_type": "code",
   "execution_count": 91,
   "metadata": {},
   "outputs": [
    {
     "name": "stdout",
     "output_type": "stream",
     "text": [
      "[ 5  6  7  8  9 10]\n",
      "[1 2 3 4 5 6]\n",
      "[ 6  8 10 12 14 16]\n",
      "[False False  True  True  True  True]\n",
      "[ 5 12 21 32 45 60]\n"
     ]
    }
   ],
   "source": [
    "#Arithematic Operators\n",
    "a = np.arange(5,11)\n",
    "print(a)\n",
    "b = np.linspace(1,6,6, dtype = np.int32)\n",
    "print(b)\n",
    "c= b+a\n",
    "print(c)\n",
    "#Logical operator\n",
    "c = c > 8 \n",
    "print(c)\n",
    "#in place operation modify\n",
    "a *= b\n",
    "print(a)"
   ]
  },
  {
   "cell_type": "code",
   "execution_count": 96,
   "metadata": {},
   "outputs": [
    {
     "name": "stdout",
     "output_type": "stream",
     "text": [
      "[2 3 4 5 6 7 8 9]\n",
      "[ 4  9 16 25 36 49 64 81]\n",
      "[2 3 4 5 6 7 8 9]\n"
     ]
    }
   ],
   "source": [
    "a = np.arange(2,10)\n",
    "print(a)\n",
    "a = pow(a,2)\n",
    "print(a)\n",
    "a = np.sqrt(a)\n",
    "a = a.astype(np.int32)\n",
    "print(a)"
   ]
  },
  {
   "cell_type": "code",
   "execution_count": 33,
   "metadata": {},
   "outputs": [
    {
     "name": "stdout",
     "output_type": "stream",
     "text": [
      "[[ 0  1  2  3  4  5]\n",
      " [10 11 12 13 14 15]\n",
      " [20 21 22 23 24 25]\n",
      " [30 31 32 33 34 35]\n",
      " [40 41 42 43 44 45]\n",
      " [50 51 52 53 54 55]]\n",
      "\n",
      " [[44 45]\n",
      " [54 55]]\n",
      "\n",
      " [3 4]\n",
      "\n",
      " [ 2 12 22 32 42 52]\n",
      "\n",
      " [[20 22 24]\n",
      " [40 42 44]]\n"
     ]
    }
   ],
   "source": [
    "#Indexing 1.1\n",
    "i=0;j=6\n",
    "a0 = np.arange(0,6)\n",
    "a1 = np.arange(10,16)\n",
    "a2 = np.arange(20,26)\n",
    "a3 = np.arange(30,36)\n",
    "a4 = np.arange(40,46)\n",
    "a5= np.arange(50,56)\n",
    "a = np.concatenate([a0,a1,a2,a3,a4,a5]).reshape(6,6)\n",
    "print(a)\n",
    "b1 = a[4:,4:]\n",
    "b2 = a[0,3:5]\n",
    "b3 = a[:,2]\n",
    "b4 = a[2::2,::2]\n",
    "print(\"\\n\",b1)\n",
    "print(\"\\n\",b2)\n",
    "print(\"\\n\",b3)\n",
    "print(\"\\n\",b4)\n"
   ]
  },
  {
   "cell_type": "code",
   "execution_count": 111,
   "metadata": {},
   "outputs": [
    {
     "name": "stdout",
     "output_type": "stream",
     "text": [
      "[[ 0  1  2  3  4  5]\n",
      " [10 11 12 13 14 15]\n",
      " [20 21 22 23 24 25]\n",
      " [30 31 32 33 34 35]\n",
      " [40 41 42 43 44 45]\n",
      " [50 51 52 53 54 55]]\n",
      "[[10 12 14]\n",
      " [30 32 34]\n",
      " [50 52 54]]\n",
      "Sum : 990\n"
     ]
    }
   ],
   "source": [
    "#Indexing 1.2\n",
    "i=0\n",
    "sum = 0\n",
    "a = []\n",
    "for i in range(0,6):\n",
    "    for j in range(0,6):\n",
    "        a.append(i*10+j)\n",
    "        d = (i*10+j)\n",
    "        sum +=d\n",
    "a = np.array([a]).reshape(6,6) \n",
    "print(a)\n",
    "print(a[1::2,::2])\n",
    "print(\"Sum :\",sum)"
   ]
  },
  {
   "cell_type": "code",
   "execution_count": 126,
   "metadata": {},
   "outputs": [
    {
     "name": "stdout",
     "output_type": "stream",
     "text": [
      "sum of all element : 990\n",
      "sum of .sum(axis=0) : [150 156 162 168 174 180]\n",
      "sum of .sum(axis=1) : [ 15  75 135 195 255 315]\n",
      "sum of .sum(axis=0,keepdims=True) : [[150 156 162 168 174 180]]\n",
      "sum of .sum(axis=1,keepdims=True) :\n",
      " [[ 15]\n",
      " [ 75]\n",
      " [135]\n",
      " [195]\n",
      " [255]\n",
      " [315]]\n",
      "sum of .sum(axis=1,keepdims=False) :\n",
      " [ 15  75 135 195 255 315]\n",
      "sum of .sum(axis=0,keepdims=False) :\n",
      " [150 156 162 168 174 180]\n"
     ]
    }
   ],
   "source": [
    "#Sum of Array\n",
    "r1= a.sum()\n",
    "r2= a.sum(axis=0)\n",
    "r3= a.sum(axis=1)\n",
    "r4= a.sum(axis=0,keepdims=True)\n",
    "r5= a.sum(axis=1,keepdims=True)\n",
    "r6= a.sum(axis=1,keepdims=False)\n",
    "r7= a.sum(axis=0,keepdims=False)\n",
    "print(\"sum of all element :\",r1)\n",
    "print(\"sum of .sum(axis=0) :\",r2)\n",
    "print(\"sum of .sum(axis=1) :\",r3)\n",
    "print(\"sum of .sum(axis=0,keepdims=True) :\",r4)\n",
    "print(\"sum of .sum(axis=1,keepdims=True) :\\n\",r5)\n",
    "print(\"sum of .sum(axis=1,keepdims=False) :\\n\",r6)\n",
    "print(\"sum of .sum(axis=0,keepdims=False) :\\n\",r7)"
   ]
  },
  {
   "cell_type": "code",
   "execution_count": 138,
   "metadata": {},
   "outputs": [
    {
     "name": "stdout",
     "output_type": "stream",
     "text": [
      "[[1 2]\n",
      " [3 4]\n",
      " [5 6]]\n",
      "[[ 1 -1]]\n"
     ]
    },
    {
     "data": {
      "text/plain": [
       "array([[2, 1],\n",
       "       [4, 3],\n",
       "       [6, 5]])"
      ]
     },
     "execution_count": 138,
     "metadata": {},
     "output_type": "execute_result"
    }
   ],
   "source": [
    "#Broard Cast\n",
    "#3*2\n",
    "Matrix1 = np.array([[1, 2],[3, 4],[5, 6]])\n",
    "print(Matrix1)\n",
    "#1*2\n",
    "Matrix2 = np.array([[1,-1]])\n",
    "print(Matrix2)\n",
    "\n",
    "#หมาเหตุถ้าจะบวกการทุกสมาชิกแบบนี้จะต้อง มีจำนวนหลักเท่ากัน\n",
    "Matrix1 + Matrix2"
   ]
  },
  {
   "cell_type": "code",
   "execution_count": 164,
   "metadata": {},
   "outputs": [
    {
     "name": "stdout",
     "output_type": "stream",
     "text": [
      "2.718281828459045 1.4142135623730951 0.49999999999999994 False"
     ]
    }
   ],
   "source": [
    "import math \n",
    "x1 = np.exp(1)\n",
    "x2 = np.sqrt(2)\n",
    "x3 = np.sin(math.pi/6)\n",
    "x4 = np.isnan(3)\n",
    "print(x1,x2,x3,x4,end=\"\")"
   ]
  },
  {
   "cell_type": "code",
   "execution_count": 165,
   "metadata": {},
   "outputs": [
    {
     "data": {
      "text/plain": [
       "8"
      ]
     },
     "execution_count": 165,
     "metadata": {},
     "output_type": "execute_result"
    }
   ],
   "source": [
    "pow(2,3)"
   ]
  },
  {
   "cell_type": "code",
   "execution_count": 173,
   "metadata": {},
   "outputs": [
    {
     "name": "stdout",
     "output_type": "stream",
     "text": [
      "[[1 2]\n",
      " [4 5]]\n",
      "[[-1.66666667  0.66666667]\n",
      " [ 1.33333333 -0.33333333]]\n",
      "[[1. 0.]\n",
      " [0. 1.]]\n"
     ]
    }
   ],
   "source": [
    "from numpy.linalg import inv\n",
    "mat = np.array([[1,2],[4,5]])\n",
    "print(mat)\n",
    "print(inv(mat))\n",
    "print(np.dot(mat,inv(mat)))\n"
   ]
  },
  {
   "cell_type": "code",
   "execution_count": 180,
   "metadata": {},
   "outputs": [
    {
     "name": "stdout",
     "output_type": "stream",
     "text": [
      "[[2 4]\n",
      " [4 6]]\n",
      "[2 3]\n",
      "[[-0.14285714 -1.28571429]\n",
      " [ 0.28571429  1.07142857]]\n"
     ]
    }
   ],
   "source": [
    "Xb = np.array([[2,4],[4,6]])\n",
    "print(Xb)\n",
    "Y = np.array([2,3])\n",
    "print(Y)\n",
    "W = np.linalg.solve(Xb.T*Xb,Xb.T*Y)\n",
    "print(W)"
   ]
  },
  {
   "cell_type": "code",
   "execution_count": null,
   "metadata": {},
   "outputs": [],
   "source": []
  }
 ],
 "metadata": {
  "kernelspec": {
   "display_name": "Python 3",
   "language": "python",
   "name": "python3"
  },
  "language_info": {
   "codemirror_mode": {
    "name": "ipython",
    "version": 3
   },
   "file_extension": ".py",
   "mimetype": "text/x-python",
   "name": "python",
   "nbconvert_exporter": "python",
   "pygments_lexer": "ipython3",
   "version": "3.7.5"
  }
 },
 "nbformat": 4,
 "nbformat_minor": 2
}
