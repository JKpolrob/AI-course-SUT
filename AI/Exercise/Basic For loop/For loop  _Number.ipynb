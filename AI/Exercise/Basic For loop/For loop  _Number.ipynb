{
 "cells": [
  {
   "cell_type": "code",
   "execution_count": 2,
   "metadata": {},
   "outputs": [
    {
     "name": "stdout",
     "output_type": "stream",
     "text": [
      "1 2 3 4 5 \n",
      "2 4 6 8 10 \n",
      "3 6 9 12 15 \n",
      "4 8 12 16 20 \n"
     ]
    }
   ],
   "source": [
    "for i in range(1,5):\n",
    "    for j in range(1,6):\n",
    "        k = i*j\n",
    "        print(k,end=' ')\n",
    "    print()"
   ]
  },
  {
   "cell_type": "code",
   "execution_count": 28,
   "metadata": {},
   "outputs": [
    {
     "name": "stdout",
     "output_type": "stream",
     "text": [
      "2 is prime\n",
      "3 is prime\n",
      "2 is J\n",
      "4 is i\n",
      "2 is J\n",
      "5 is i\n",
      "5 is prime\n",
      "2 is J\n",
      "6 is i\n",
      "2 is J\n",
      "7 is i\n",
      "7 is prime\n",
      "2 is J\n",
      "8 is i\n",
      "2 is J\n",
      "9 is i\n",
      "3 is J\n",
      "9 is i\n",
      "2 is J\n",
      "10 is i\n",
      "2 is J\n",
      "11 is i\n",
      "3 is J\n",
      "11 is i\n",
      "11 is prime\n",
      "2 is J\n",
      "12 is i\n",
      "2 is J\n",
      "13 is i\n",
      "3 is J\n",
      "13 is i\n",
      "13 is prime\n",
      "2 is J\n",
      "14 is i\n",
      "2 is J\n",
      "15 is i\n",
      "3 is J\n",
      "15 is i\n",
      "2 is J\n",
      "16 is i\n",
      "2 is J\n",
      "17 is i\n",
      "3 is J\n",
      "17 is i\n",
      "4 is J\n",
      "17 is i\n",
      "17 is prime\n",
      "2 is J\n",
      "18 is i\n",
      "2 is J\n",
      "19 is i\n",
      "3 is J\n",
      "19 is i\n",
      "4 is J\n",
      "19 is i\n",
      "19 is prime\n",
      "2 is J\n",
      "20 is i\n",
      "2 is J\n",
      "21 is i\n",
      "3 is J\n",
      "21 is i\n",
      "2 is J\n",
      "22 is i\n",
      "2 is J\n",
      "23 is i\n",
      "3 is J\n",
      "23 is i\n",
      "4 is J\n",
      "23 is i\n",
      "23 is prime\n",
      "2 is J\n",
      "24 is i\n",
      "2 is J\n",
      "25 is i\n",
      "3 is J\n",
      "25 is i\n",
      "4 is J\n",
      "25 is i\n",
      "5 is J\n",
      "25 is i\n",
      "2 is J\n",
      "26 is i\n",
      "2 is J\n",
      "27 is i\n",
      "3 is J\n",
      "27 is i\n",
      "2 is J\n",
      "28 is i\n",
      "2 is J\n",
      "29 is i\n",
      "3 is J\n",
      "29 is i\n",
      "4 is J\n",
      "29 is i\n",
      "5 is J\n",
      "29 is i\n",
      "29 is prime\n",
      "Good bye\n"
     ]
    }
   ],
   "source": [
    "#การหาจำนวนเฉพาะ\n",
    "i = 2\n",
    "while(i<30):\n",
    "    j=2\n",
    "    while(j<=(i/j)):\n",
    "         #เศษของ i หาร j ไม่เท่ากับ0\n",
    "         print(j,'is J')\n",
    "         print(i,'is i')\n",
    "         if not(i%j):\n",
    "            break\n",
    "         j += 1\n",
    "    if(j>i/j):print(i,'is prime')\n",
    "    i += 1\n",
    "\n",
    "print('Good bye')\n",
    "    "
   ]
  },
  {
   "cell_type": "code",
   "execution_count": 39,
   "metadata": {},
   "outputs": [
    {
     "name": "stdout",
     "output_type": "stream",
     "text": [
      "Input a Number :6\n",
      "6 X 1 = 6\n",
      "6 X 2 = 12\n",
      "6 X 3 = 18\n",
      "6 X 4 = 24\n",
      "6 X 5 = 30\n",
      "6 X 6 = 36\n",
      "6 X 7 = 42\n",
      "6 X 8 = 48\n",
      "6 X 9 = 54\n",
      "6 X 10 = 60\n",
      "6 X 11 = 66\n",
      "6 X 12 = 72\n",
      "End of program\n"
     ]
    }
   ],
   "source": [
    "num1 = int(input('Input a Number :'))\n",
    "for i in range(1,13):\n",
    "    res = num1*i \n",
    "    print('{} X {} = {}'.format(num1,i,res))\n",
    "else:\n",
    "    print('End of program')"
   ]
  },
  {
   "cell_type": "code",
   "execution_count": 38,
   "metadata": {},
   "outputs": [
    {
     "name": "stdout",
     "output_type": "stream",
     "text": [
      "Input a Number :5\n",
      "5 X 1 = 5\n",
      "5 X 2 = 10\n",
      "5 X 3 = 15\n",
      "5 X 4 = 20\n",
      "5 X 5 = 25\n",
      "5 X 6 = 30\n",
      "5 X 7 = 35\n",
      "5 X 8 = 40\n",
      "5 X 9 = 45\n",
      "5 X 10 = 50\n",
      "5 X 11 = 55\n",
      "5 X 12 = 60\n",
      "End of program\n"
     ]
    }
   ],
   "source": [
    "num1 = int(input('Input a Number :'))\n",
    "i=1\n",
    "while (i<13):\n",
    "    res = num1*i \n",
    "    print('{} X {} = {}'.format(num1,i,res))\n",
    "    i +=1\n",
    "else:\n",
    "    print('End of program')"
   ]
  },
  {
   "cell_type": "code",
   "execution_count": null,
   "metadata": {},
   "outputs": [],
   "source": []
  }
 ],
 "metadata": {
  "kernelspec": {
   "display_name": "Python 3",
   "language": "python",
   "name": "python3"
  },
  "language_info": {
   "codemirror_mode": {
    "name": "ipython",
    "version": 3
   },
   "file_extension": ".py",
   "mimetype": "text/x-python",
   "name": "python",
   "nbconvert_exporter": "python",
   "pygments_lexer": "ipython3",
   "version": "3.7.5"
  }
 },
 "nbformat": 4,
 "nbformat_minor": 2
}
