{
 "cells": [
  {
   "cell_type": "code",
   "execution_count": 40,
   "metadata": {},
   "outputs": [],
   "source": [
    "#Importing dependencies\n",
    "from sklearn import datasets\n",
    "from sklearn.model_selection import train_test_split\n",
    "from sklearn.neural_network import MLPClassifier\n",
    "import matplotlib.pyplot as plt\n",
    "import sklearn.neural_network as nn"
   ]
  },
  {
   "cell_type": "code",
   "execution_count": 41,
   "metadata": {},
   "outputs": [],
   "source": [
    "#import DATA\n",
    "dataset = datasets.load_digits()"
   ]
  },
  {
   "cell_type": "code",
   "execution_count": 42,
   "metadata": {},
   "outputs": [
    {
     "name": "stdout",
     "output_type": "stream",
     "text": [
      ".. _digits_dataset:\n",
      "\n",
      "Optical recognition of handwritten digits dataset\n",
      "--------------------------------------------------\n",
      "\n",
      "**Data Set Characteristics:**\n",
      "\n",
      "    :Number of Instances: 5620\n",
      "    :Number of Attributes: 64\n",
      "    :Attribute Information: 8x8 image of integer pixels in the range 0..16.\n",
      "    :Missing Attribute Values: None\n",
      "    :Creator: E. Alpaydin (alpaydin '@' boun.edu.tr)\n",
      "    :Date: July; 1998\n",
      "\n",
      "This is a copy of the test set of the UCI ML hand-written digits datasets\n",
      "https://archive.ics.uci.edu/ml/datasets/Optical+Recognition+of+Handwritten+Digits\n",
      "\n",
      "The data set contains images of hand-written digits: 10 classes where\n",
      "each class refers to a digit.\n",
      "\n",
      "Preprocessing programs made available by NIST were used to extract\n",
      "normalized bitmaps of handwritten digits from a preprinted form. From a\n",
      "total of 43 people, 30 contributed to the training set and different 13\n",
      "to the test set. 32x32 bitmaps are divided into nonoverlapping blocks of\n",
      "4x4 and the number of on pixels are counted in each block. This generates\n",
      "an input matrix of 8x8 where each element is an integer in the range\n",
      "0..16. This reduces dimensionality and gives invariance to small\n",
      "distortions.\n",
      "\n",
      "For info on NIST preprocessing routines, see M. D. Garris, J. L. Blue, G.\n",
      "T. Candela, D. L. Dimmick, J. Geist, P. J. Grother, S. A. Janet, and C.\n",
      "L. Wilson, NIST Form-Based Handprint Recognition System, NISTIR 5469,\n",
      "1994.\n",
      "\n",
      ".. topic:: References\n",
      "\n",
      "  - C. Kaynak (1995) Methods of Combining Multiple Classifiers and Their\n",
      "    Applications to Handwritten Digit Recognition, MSc Thesis, Institute of\n",
      "    Graduate Studies in Science and Engineering, Bogazici University.\n",
      "  - E. Alpaydin, C. Kaynak (1998) Cascading Classifiers, Kybernetika.\n",
      "  - Ken Tang and Ponnuthurai N. Suganthan and Xi Yao and A. Kai Qin.\n",
      "    Linear dimensionalityreduction using relevance weighted LDA. School of\n",
      "    Electrical and Electronic Engineering Nanyang Technological University.\n",
      "    2005.\n",
      "  - Claudio Gentile. A New Approximate Maximal Margin Classification\n",
      "    Algorithm. NIPS. 2000.\n"
     ]
    }
   ],
   "source": [
    "print(dataset.DESCR) #เอา reference มาจากไหน ขนาดของรูป 8*8 "
   ]
  },
  {
   "cell_type": "code",
   "execution_count": 43,
   "metadata": {},
   "outputs": [
    {
     "name": "stdout",
     "output_type": "stream",
     "text": [
      "{'data': array([[ 0.,  0.,  5., ...,  0.,  0.,  0.],\n",
      "       [ 0.,  0.,  0., ..., 10.,  0.,  0.],\n",
      "       [ 0.,  0.,  0., ..., 16.,  9.,  0.],\n",
      "       ...,\n",
      "       [ 0.,  0.,  1., ...,  6.,  0.,  0.],\n",
      "       [ 0.,  0.,  2., ..., 12.,  0.,  0.],\n",
      "       [ 0.,  0., 10., ..., 12.,  1.,  0.]]), 'target': array([0, 1, 2, ..., 8, 9, 8]), 'target_names': array([0, 1, 2, 3, 4, 5, 6, 7, 8, 9]), 'images': array([[[ 0.,  0.,  5., ...,  1.,  0.,  0.],\n",
      "        [ 0.,  0., 13., ..., 15.,  5.,  0.],\n",
      "        [ 0.,  3., 15., ..., 11.,  8.,  0.],\n",
      "        ...,\n",
      "        [ 0.,  4., 11., ..., 12.,  7.,  0.],\n",
      "        [ 0.,  2., 14., ..., 12.,  0.,  0.],\n",
      "        [ 0.,  0.,  6., ...,  0.,  0.,  0.]],\n",
      "\n",
      "       [[ 0.,  0.,  0., ...,  5.,  0.,  0.],\n",
      "        [ 0.,  0.,  0., ...,  9.,  0.,  0.],\n",
      "        [ 0.,  0.,  3., ...,  6.,  0.,  0.],\n",
      "        ...,\n",
      "        [ 0.,  0.,  1., ...,  6.,  0.,  0.],\n",
      "        [ 0.,  0.,  1., ...,  6.,  0.,  0.],\n",
      "        [ 0.,  0.,  0., ..., 10.,  0.,  0.]],\n",
      "\n",
      "       [[ 0.,  0.,  0., ..., 12.,  0.,  0.],\n",
      "        [ 0.,  0.,  3., ..., 14.,  0.,  0.],\n",
      "        [ 0.,  0.,  8., ..., 16.,  0.,  0.],\n",
      "        ...,\n",
      "        [ 0.,  9., 16., ...,  0.,  0.,  0.],\n",
      "        [ 0.,  3., 13., ..., 11.,  5.,  0.],\n",
      "        [ 0.,  0.,  0., ..., 16.,  9.,  0.]],\n",
      "\n",
      "       ...,\n",
      "\n",
      "       [[ 0.,  0.,  1., ...,  1.,  0.,  0.],\n",
      "        [ 0.,  0., 13., ...,  2.,  1.,  0.],\n",
      "        [ 0.,  0., 16., ..., 16.,  5.,  0.],\n",
      "        ...,\n",
      "        [ 0.,  0., 16., ..., 15.,  0.,  0.],\n",
      "        [ 0.,  0., 15., ..., 16.,  0.,  0.],\n",
      "        [ 0.,  0.,  2., ...,  6.,  0.,  0.]],\n",
      "\n",
      "       [[ 0.,  0.,  2., ...,  0.,  0.,  0.],\n",
      "        [ 0.,  0., 14., ..., 15.,  1.,  0.],\n",
      "        [ 0.,  4., 16., ..., 16.,  7.,  0.],\n",
      "        ...,\n",
      "        [ 0.,  0.,  0., ..., 16.,  2.,  0.],\n",
      "        [ 0.,  0.,  4., ..., 16.,  2.,  0.],\n",
      "        [ 0.,  0.,  5., ..., 12.,  0.,  0.]],\n",
      "\n",
      "       [[ 0.,  0., 10., ...,  1.,  0.,  0.],\n",
      "        [ 0.,  2., 16., ...,  1.,  0.,  0.],\n",
      "        [ 0.,  0., 15., ..., 15.,  0.,  0.],\n",
      "        ...,\n",
      "        [ 0.,  4., 16., ..., 16.,  6.,  0.],\n",
      "        [ 0.,  8., 16., ..., 16.,  8.,  0.],\n",
      "        [ 0.,  1.,  8., ..., 12.,  1.,  0.]]]), 'DESCR': \".. _digits_dataset:\\n\\nOptical recognition of handwritten digits dataset\\n--------------------------------------------------\\n\\n**Data Set Characteristics:**\\n\\n    :Number of Instances: 5620\\n    :Number of Attributes: 64\\n    :Attribute Information: 8x8 image of integer pixels in the range 0..16.\\n    :Missing Attribute Values: None\\n    :Creator: E. Alpaydin (alpaydin '@' boun.edu.tr)\\n    :Date: July; 1998\\n\\nThis is a copy of the test set of the UCI ML hand-written digits datasets\\nhttps://archive.ics.uci.edu/ml/datasets/Optical+Recognition+of+Handwritten+Digits\\n\\nThe data set contains images of hand-written digits: 10 classes where\\neach class refers to a digit.\\n\\nPreprocessing programs made available by NIST were used to extract\\nnormalized bitmaps of handwritten digits from a preprinted form. From a\\ntotal of 43 people, 30 contributed to the training set and different 13\\nto the test set. 32x32 bitmaps are divided into nonoverlapping blocks of\\n4x4 and the number of on pixels are counted in each block. This generates\\nan input matrix of 8x8 where each element is an integer in the range\\n0..16. This reduces dimensionality and gives invariance to small\\ndistortions.\\n\\nFor info on NIST preprocessing routines, see M. D. Garris, J. L. Blue, G.\\nT. Candela, D. L. Dimmick, J. Geist, P. J. Grother, S. A. Janet, and C.\\nL. Wilson, NIST Form-Based Handprint Recognition System, NISTIR 5469,\\n1994.\\n\\n.. topic:: References\\n\\n  - C. Kaynak (1995) Methods of Combining Multiple Classifiers and Their\\n    Applications to Handwritten Digit Recognition, MSc Thesis, Institute of\\n    Graduate Studies in Science and Engineering, Bogazici University.\\n  - E. Alpaydin, C. Kaynak (1998) Cascading Classifiers, Kybernetika.\\n  - Ken Tang and Ponnuthurai N. Suganthan and Xi Yao and A. Kai Qin.\\n    Linear dimensionalityreduction using relevance weighted LDA. School of\\n    Electrical and Electronic Engineering Nanyang Technological University.\\n    2005.\\n  - Claudio Gentile. A New Approximate Maximal Margin Classification\\n    Algorithm. NIPS. 2000.\"}\n"
     ]
    }
   ],
   "source": [
    "print(dataset)"
   ]
  },
  {
   "cell_type": "code",
   "execution_count": 44,
   "metadata": {},
   "outputs": [],
   "source": [
    "img_data = dataset.images"
   ]
  },
  {
   "cell_type": "code",
   "execution_count": 45,
   "metadata": {},
   "outputs": [
    {
     "name": "stdout",
     "output_type": "stream",
     "text": [
      "img_data: \n",
      " [[[ 0.  0.  5. ...  1.  0.  0.]\n",
      "  [ 0.  0. 13. ... 15.  5.  0.]\n",
      "  [ 0.  3. 15. ... 11.  8.  0.]\n",
      "  ...\n",
      "  [ 0.  4. 11. ... 12.  7.  0.]\n",
      "  [ 0.  2. 14. ... 12.  0.  0.]\n",
      "  [ 0.  0.  6. ...  0.  0.  0.]]\n",
      "\n",
      " [[ 0.  0.  0. ...  5.  0.  0.]\n",
      "  [ 0.  0.  0. ...  9.  0.  0.]\n",
      "  [ 0.  0.  3. ...  6.  0.  0.]\n",
      "  ...\n",
      "  [ 0.  0.  1. ...  6.  0.  0.]\n",
      "  [ 0.  0.  1. ...  6.  0.  0.]\n",
      "  [ 0.  0.  0. ... 10.  0.  0.]]\n",
      "\n",
      " [[ 0.  0.  0. ... 12.  0.  0.]\n",
      "  [ 0.  0.  3. ... 14.  0.  0.]\n",
      "  [ 0.  0.  8. ... 16.  0.  0.]\n",
      "  ...\n",
      "  [ 0.  9. 16. ...  0.  0.  0.]\n",
      "  [ 0.  3. 13. ... 11.  5.  0.]\n",
      "  [ 0.  0.  0. ... 16.  9.  0.]]\n",
      "\n",
      " ...\n",
      "\n",
      " [[ 0.  0.  1. ...  1.  0.  0.]\n",
      "  [ 0.  0. 13. ...  2.  1.  0.]\n",
      "  [ 0.  0. 16. ... 16.  5.  0.]\n",
      "  ...\n",
      "  [ 0.  0. 16. ... 15.  0.  0.]\n",
      "  [ 0.  0. 15. ... 16.  0.  0.]\n",
      "  [ 0.  0.  2. ...  6.  0.  0.]]\n",
      "\n",
      " [[ 0.  0.  2. ...  0.  0.  0.]\n",
      "  [ 0.  0. 14. ... 15.  1.  0.]\n",
      "  [ 0.  4. 16. ... 16.  7.  0.]\n",
      "  ...\n",
      "  [ 0.  0.  0. ... 16.  2.  0.]\n",
      "  [ 0.  0.  4. ... 16.  2.  0.]\n",
      "  [ 0.  0.  5. ... 12.  0.  0.]]\n",
      "\n",
      " [[ 0.  0. 10. ...  1.  0.  0.]\n",
      "  [ 0.  2. 16. ...  1.  0.  0.]\n",
      "  [ 0.  0. 15. ... 15.  0.  0.]\n",
      "  ...\n",
      "  [ 0.  4. 16. ... 16.  6.  0.]\n",
      "  [ 0.  8. 16. ... 16.  8.  0.]\n",
      "  [ 0.  1.  8. ... 12.  1.  0.]]]\n"
     ]
    }
   ],
   "source": [
    "print('img_data: \\n',img_data) "
   ]
  },
  {
   "cell_type": "code",
   "execution_count": 46,
   "metadata": {},
   "outputs": [],
   "source": [
    "output_label = dataset.target"
   ]
  },
  {
   "cell_type": "code",
   "execution_count": 47,
   "metadata": {},
   "outputs": [
    {
     "name": "stdout",
     "output_type": "stream",
     "text": [
      "output_label [0 1 2 ... 8 9 8]\n"
     ]
    }
   ],
   "source": [
    "print('output_label',output_label)"
   ]
  },
  {
   "cell_type": "code",
   "execution_count": 87,
   "metadata": {},
   "outputs": [
    {
     "data": {
      "image/png": "[encoded data removed]",
      "text/plain": [
       "<Figure size 432x288 with 1 Axes>"
      ]
     },
     "metadata": {
      "needs_background": "light"
     },
     "output_type": "display_data"
    },
    {
     "name": "stdout",
     "output_type": "stream",
     "text": [
      "Output Label : 0\n"
     ]
    }
   ],
   "source": [
    "    plt.imshow(img_data[0],cmap = 'gray') #ใส่ cmap ลงไปเพื่อทำให้มันกลายเป็นขาวดำ\n",
    "    plt.show()\n",
    "    print(\"Output Label :\",output_label[0])\n",
    "#รูปนี้ใีความละเอียด 8*8 คือ 64 pixel \n",
    "#แต่ล่ะช่องจะบอกค่าความเข้ม เรียกว่า intensity\n",
    "\n",
    "#ในแต่ล่ะpixel มีค่าตั้งแต่ 0-255\n",
    "# convert to ให้อยู่ใน mode gray scale 1 ขาว , 0 ดำ"
   ]
  },
  {
   "cell_type": "code",
   "execution_count": 48,
   "metadata": {},
   "outputs": [
    {
     "data": {
      "image/png": "[encoded data removed]",
      "text/plain": [
       "<Figure size 432x288 with 1 Axes>"
      ]
     },
     "metadata": {
      "needs_background": "light"
     },
     "output_type": "display_data"
    },
    {
     "name": "stdout",
     "output_type": "stream",
     "text": [
      "Output Label : 0\n"
     ]
    },
    {
     "data": {
      "image/png": "[encoded data removed]",
      "text/plain": [
       "<Figure size 432x288 with 1 Axes>"
      ]
     },
     "metadata": {
      "needs_background": "light"
     },
     "output_type": "display_data"
    },
    {
     "name": "stdout",
     "output_type": "stream",
     "text": [
      "Output Label : 1\n"
     ]
    },
    {
     "data": {
      "image/png": "[encoded data removed]",
      "text/plain": [
       "<Figure size 432x288 with 1 Axes>"
      ]
     },
     "metadata": {
      "needs_background": "light"
     },
     "output_type": "display_data"
    },
    {
     "name": "stdout",
     "output_type": "stream",
     "text": [
      "Output Label : 2\n"
     ]
    }
   ],
   "source": [
    "#Display few images with labels\n",
    "#show 3 first picture \n",
    "for i in range(3):\n",
    "    plt.imshow(img_data[i])\n",
    "    plt.show()\n",
    "    print(\"Output Label :\",output_label[i])"
   ]
  },
  {
   "cell_type": "code",
   "execution_count": 49,
   "metadata": {},
   "outputs": [
    {
     "data": {
      "text/plain": [
       "'\\nRESHAPE IMAGES(FLATTEN)\\nWE CAN show how the image is converted to a colomns vector.\\nOriginal Img-dim = 8x8\\nResult vector = 1x64\\n'"
      ]
     },
     "execution_count": 49,
     "metadata": {},
     "output_type": "execute_result"
    }
   ],
   "source": [
    "\"\"\"\n",
    "RESHAPE IMAGES(FLATTEN)\n",
    "WE CAN show how the image is converted to a colomns vector.\n",
    "Original Img-dim = 8x8\n",
    "Result vector = 1x64\n",
    "\"\"\""
   ]
  },
  {
   "cell_type": "code",
   "execution_count": 50,
   "metadata": {},
   "outputs": [
    {
     "name": "stdout",
     "output_type": "stream",
     "text": [
      "[[ 0.  0.  5. 13.  9.  1.  0.  0.]\n",
      " [ 0.  0. 13. 15. 10. 15.  5.  0.]\n",
      " [ 0.  3. 15.  2.  0. 11.  8.  0.]\n",
      " [ 0.  4. 12.  0.  0.  8.  8.  0.]\n",
      " [ 0.  5.  8.  0.  0.  9.  8.  0.]\n",
      " [ 0.  4. 11.  0.  1. 12.  7.  0.]\n",
      " [ 0.  2. 14.  5. 10. 12.  0.  0.]\n",
      " [ 0.  0.  6. 13. 10.  0.  0.  0.]]\n"
     ]
    }
   ],
   "source": [
    "#Taking one sample image as i \n",
    "i = img_data[0]\n",
    "print(i)"
   ]
  },
  {
   "cell_type": "code",
   "execution_count": 51,
   "metadata": {},
   "outputs": [
    {
     "data": {
      "image/png": "[encoded data removed]",
      "text/plain": [
       "<Figure size 432x288 with 1 Axes>"
      ]
     },
     "metadata": {
      "needs_background": "light"
     },
     "output_type": "display_data"
    },
    {
     "name": "stdout",
     "output_type": "stream",
     "text": [
      "Output Label :  0\n"
     ]
    }
   ],
   "source": [
    "#Check what the image is \n",
    "plt.imshow(i)\n",
    "plt.show()\n",
    "print(\"Output Label : \",output_label[0])"
   ]
  },
  {
   "cell_type": "code",
   "execution_count": 52,
   "metadata": {},
   "outputs": [],
   "source": [
    "#Vectorizing the 2-D image\n",
    "i = i.reshape((64,1))"
   ]
  },
  {
   "cell_type": "code",
   "execution_count": 53,
   "metadata": {},
   "outputs": [],
   "source": [
    "#Transposing the columns vector to stored in the dataset\n",
    "i = i.T"
   ]
  },
  {
   "cell_type": "code",
   "execution_count": 54,
   "metadata": {},
   "outputs": [
    {
     "data": {
      "text/plain": [
       "array([[ 0.,  0.,  5., 13.,  9.,  1.,  0.,  0.,  0.,  0., 13., 15., 10.,\n",
       "        15.,  5.,  0.,  0.,  3., 15.,  2.,  0., 11.,  8.,  0.,  0.,  4.,\n",
       "        12.,  0.,  0.,  8.,  8.,  0.,  0.,  5.,  8.,  0.,  0.,  9.,  8.,\n",
       "         0.,  0.,  4., 11.,  0.,  1., 12.,  7.,  0.,  0.,  2., 14.,  5.,\n",
       "        10., 12.,  0.,  0.,  0.,  0.,  6., 13., 10.,  0.,  0.,  0.]])"
      ]
     },
     "execution_count": 54,
     "metadata": {},
     "output_type": "execute_result"
    }
   ],
   "source": [
    "i"
   ]
  },
  {
   "cell_type": "code",
   "execution_count": 55,
   "metadata": {},
   "outputs": [
    {
     "name": "stdout",
     "output_type": "stream",
     "text": [
      "The vector i is : \n",
      " [ 0.  0.  5. 13.  9.  1.  0.  0.  0.  0. 13. 15. 10. 15.  5.  0.  0.  3.\n",
      " 15.  2.  0. 11.  8.  0.  0.  4. 12.  0.  0.  8.  8.  0.  0.  5.  8.  0.\n",
      "  0.  9.  8.  0.  0.  4. 11.  0.  1. 12.  7.  0.  0.  2. 14.  5. 10. 12.\n",
      "  0.  0.  0.  0.  6. 13. 10.  0.  0.  0.]\n",
      "Shape of i : (1, 64)\n"
     ]
    }
   ],
   "source": [
    "#Showing i is same as traing_data\n",
    "print(\"The vector i is : \\n\",i[0])\n",
    "print(\"Shape of i :\",i.shape)"
   ]
  },
  {
   "cell_type": "code",
   "execution_count": 56,
   "metadata": {},
   "outputs": [],
   "source": [
    "#And so now we shall use the dataset.data for future use.\n",
    "training_data = dataset.data"
   ]
  },
  {
   "cell_type": "code",
   "execution_count": 60,
   "metadata": {},
   "outputs": [
    {
     "name": "stdout",
     "output_type": "stream",
     "text": [
      "training_data\n",
      " [ 0.  0.  5. 13.  9.  1.  0.  0.  0.  0. 13. 15. 10. 15.  5.  0.  0.  3.\n",
      " 15.  2.  0. 11.  8.  0.  0.  4. 12.  0.  0.  8.  8.  0.  0.  5.  8.  0.\n",
      "  0.  9.  8.  0.  0.  4. 11.  0.  1. 12.  7.  0.  0.  2. 14.  5. 10. 12.\n",
      "  0.  0.  0.  0.  6. 13. 10.  0.  0.  0.]\n",
      "Shape :  (1797, 64)\n"
     ]
    }
   ],
   "source": [
    "print(\"training_data\\n\",training_data[0])\n",
    "print(\"Shape : \",training_data.shape)"
   ]
  },
  {
   "cell_type": "code",
   "execution_count": 61,
   "metadata": {},
   "outputs": [],
   "source": [
    "#Train-Test split\n",
    "X_train, X_test, y_train , y_test = train_test_split(training_data,output_label) #default 20%"
   ]
  },
  {
   "cell_type": "code",
   "execution_count": 63,
   "metadata": {},
   "outputs": [
    {
     "name": "stdout",
     "output_type": "stream",
     "text": [
      "Total number of sample :  1797\n",
      "Number of training sample :  1347\n",
      "Number of testing sample :  450\n"
     ]
    }
   ],
   "source": [
    "print(\"Total number of sample : \",len(training_data))\n",
    "print(\"Number of training sample : \",len(X_train))\n",
    "print(\"Number of testing sample : \",len(X_test))"
   ]
  },
  {
   "cell_type": "code",
   "execution_count": 64,
   "metadata": {},
   "outputs": [],
   "source": [
    "#Defining ous model - Multi Layer Perceptron\n",
    "model = MLPClassifier(hidden_layer_sizes = (64,128,64,10),verbose=True) #(32,128,256,128,32,10)\n",
    "#have hidden layer 4 and each of layer have node 64,128,64 and 10 respectively"
   ]
  },
  {
   "cell_type": "code",
   "execution_count": 65,
   "metadata": {},
   "outputs": [
    {
     "name": "stdout",
     "output_type": "stream",
     "text": [
      "Iteration 1, loss = 2.31186402\n",
      "Iteration 2, loss = 1.84127242\n",
      "Iteration 3, loss = 1.50351025\n",
      "Iteration 4, loss = 1.26627541\n",
      "Iteration 5, loss = 1.09963784\n",
      "Iteration 6, loss = 0.96551872\n",
      "Iteration 7, loss = 0.85599650\n",
      "Iteration 8, loss = 0.77164600\n",
      "Iteration 9, loss = 0.69183737\n",
      "Iteration 10, loss = 0.61873000\n",
      "Iteration 11, loss = 0.54945993\n",
      "Iteration 12, loss = 0.47582866\n",
      "Iteration 13, loss = 0.39733477\n",
      "Iteration 14, loss = 0.32113714\n",
      "Iteration 15, loss = 0.24511126\n",
      "Iteration 16, loss = 0.18513997\n",
      "Iteration 17, loss = 0.13238689\n",
      "Iteration 18, loss = 0.10413142\n",
      "Iteration 19, loss = 0.08742451\n",
      "Iteration 20, loss = 0.07176219\n",
      "Iteration 21, loss = 0.05991905\n",
      "Iteration 22, loss = 0.05343437\n",
      "Iteration 23, loss = 0.04264105\n",
      "Iteration 24, loss = 0.03332800\n",
      "Iteration 25, loss = 0.02730864\n",
      "Iteration 26, loss = 0.02334527\n",
      "Iteration 27, loss = 0.02096815\n",
      "Iteration 28, loss = 0.01818898\n",
      "Iteration 29, loss = 0.01597728\n",
      "Iteration 30, loss = 0.01423087\n",
      "Iteration 31, loss = 0.01291153\n",
      "Iteration 32, loss = 0.01166742\n",
      "Iteration 33, loss = 0.01092258\n",
      "Iteration 34, loss = 0.00999110\n",
      "Iteration 35, loss = 0.00851176\n",
      "Iteration 36, loss = 0.00820851\n",
      "Iteration 37, loss = 0.00747111\n",
      "Iteration 38, loss = 0.00681259\n",
      "Iteration 39, loss = 0.00645243\n",
      "Iteration 40, loss = 0.00591747\n",
      "Iteration 41, loss = 0.00553586\n",
      "Iteration 42, loss = 0.00509450\n",
      "Iteration 43, loss = 0.00479888\n",
      "Iteration 44, loss = 0.00450107\n",
      "Iteration 45, loss = 0.00415644\n",
      "Iteration 46, loss = 0.00391723\n",
      "Iteration 47, loss = 0.00361398\n",
      "Iteration 48, loss = 0.00343795\n",
      "Iteration 49, loss = 0.00323427\n",
      "Iteration 50, loss = 0.00301090\n",
      "Iteration 51, loss = 0.00286398\n",
      "Iteration 52, loss = 0.00270927\n",
      "Iteration 53, loss = 0.00255388\n",
      "Iteration 54, loss = 0.00243924\n",
      "Iteration 55, loss = 0.00231063\n",
      "Iteration 56, loss = 0.00219983\n",
      "Iteration 57, loss = 0.00208698\n",
      "Iteration 58, loss = 0.00199925\n",
      "Iteration 59, loss = 0.00190511\n",
      "Iteration 60, loss = 0.00184355\n",
      "Iteration 61, loss = 0.00175871\n",
      "Iteration 62, loss = 0.00169536\n",
      "Iteration 63, loss = 0.00161915\n",
      "Iteration 64, loss = 0.00156626\n",
      "Iteration 65, loss = 0.00153095\n",
      "Iteration 66, loss = 0.00143433\n",
      "Iteration 67, loss = 0.00137984\n",
      "Iteration 68, loss = 0.00133066\n",
      "Training loss did not improve more than tol=0.000100 for 10 consecutive epochs. Stopping.\n"
     ]
    },
    {
     "data": {
      "text/plain": [
       "MLPClassifier(activation='relu', alpha=0.0001, batch_size='auto', beta_1=0.9,\n",
       "              beta_2=0.999, early_stopping=False, epsilon=1e-08,\n",
       "              hidden_layer_sizes=(64, 128, 64, 10), learning_rate='constant',\n",
       "              learning_rate_init=0.001, max_fun=15000, max_iter=200,\n",
       "              momentum=0.9, n_iter_no_change=10, nesterovs_momentum=True,\n",
       "              power_t=0.5, random_state=None, shuffle=True, solver='adam',\n",
       "              tol=0.0001, validation_fraction=0.1, verbose=True,\n",
       "              warm_start=False)"
      ]
     },
     "execution_count": 65,
     "metadata": {},
     "output_type": "execute_result"
    }
   ],
   "source": [
    "#Fitting the training data to the model\n",
    "model.fit(X_train,y_train)"
   ]
  },
  {
   "cell_type": "code",
   "execution_count": 66,
   "metadata": {},
   "outputs": [],
   "source": [
    "#Making predictions with out model \n",
    "prediction = model.predict(X_test)"
   ]
  },
  {
   "cell_type": "code",
   "execution_count": 68,
   "metadata": {},
   "outputs": [
    {
     "name": "stdout",
     "output_type": "stream",
     "text": [
      "Prediction for X_test : \n",
      " [7 6 3 9 0 2 9 0 4 0 8 2 6 9 6 0 5 1 9 0 4 4 0 0 2 7 4 4 1 9 7 4 5 7 7 1 2\n",
      " 7 4 7 8 0 0 2 6 4 8 0 1 7 9 5 1 3 3 2 2 3 5 3 8 3 5 3 4 3 5 0 5 4 9 9 2 2\n",
      " 9 2 3 2 7 8 7 5 3 1 3 0 8 4 5 5 1 8 4 7 6 2 4 1 4 3 5 2 9 0 3 9 2 1 3 6 5\n",
      " 7 3 2 9 5 3 4 1 3 0 9 1 9 3 2 5 1 2 9 0 9 2 1 7 7 7 3 1 8 3 4 0 5 1 6 6 9\n",
      " 7 4 3 0 7 5 1 8 2 3 2 8 0 6 2 3 4 7 3 8 6 7 0 3 4 2 9 0 0 9 7 0 4 8 3 8 5\n",
      " 1 2 7 8 5 3 6 6 8 2 8 1 2 1 8 2 7 2 6 4 5 7 2 6 8 8 5 2 8 1 4 9 3 9 8 7 7\n",
      " 4 3 7 1 5 5 9 3 6 0 5 3 8 1 1 1 4 8 0 3 6 6 3 5 4 2 4 6 9 1 7 8 6 2 4 0 6\n",
      " 1 9 1 4 0 8 0 5 3 0 8 0 7 5 9 6 2 3 0 0 6 3 3 8 7 6 8 6 1 2 0 1 7 2 1 3 5\n",
      " 0 6 7 4 6 3 8 4 4 7 2 5 4 1 3 9 9 2 1 0 5 1 4 7 4 2 0 3 6 3 1 5 6 4 8 7 5\n",
      " 2 9 1 9 3 8 1 4 2 6 6 4 4 0 0 4 8 9 5 1 6 9 8 9 7 2 2 2 1 5 6 9 3 4 1 6 3\n",
      " 9 4 1 6 6 5 5 7 1 4 0 1 5 5 3 0 5 2 8 2 0 8 7 5 2 2 7 7 8 2 3 2 1 4 5 0 3\n",
      " 8 7 4 5 8 5 3 7 4 8 7 3 4 5 3 4 4 1 7 9 9 9 1 0 2 8 4 6 8 5 8 1 2 2 0 9 3\n",
      " 0 4 0 3 5 1]\n"
     ]
    }
   ],
   "source": [
    "print(\"Prediction for X_test : \\n\",prediction)"
   ]
  },
  {
   "cell_type": "code",
   "execution_count": 71,
   "metadata": {},
   "outputs": [
    {
     "name": "stdout",
     "output_type": "stream",
     "text": [
      "y_test : \n",
      " [7 6 3 9 0 2 9 0 4 0 8 2 6 9 6 0 5 1 9 0 4 4 0 0 2 7 4 4 1 9 7 4 5 7 7 1 2\n",
      " 7 4 7 8 0 0 2 6 4 8 0 1 7 9 5 1 3 3 2 2 3 5 3 8 3 5 3 4 3 5 0 5 4 9 9 2 2\n",
      " 9 2 3 2 7 8 7 5 3 1 3 0 8 4 5 5 8 8 4 7 6 2 4 1 4 3 5 2 9 0 2 9 2 1 3 6 5\n",
      " 7 3 2 9 5 3 4 1 3 0 9 1 9 3 2 5 1 2 9 0 8 2 1 7 7 7 3 1 8 3 4 0 8 1 6 6 9\n",
      " 7 4 3 0 7 5 1 8 2 3 2 8 0 8 2 3 4 7 3 8 6 7 0 3 4 2 9 0 0 9 7 0 4 8 3 8 5\n",
      " 1 2 7 8 5 3 6 6 8 2 8 1 2 1 8 2 7 2 6 4 5 7 2 6 8 8 5 2 8 1 4 9 3 9 8 7 7\n",
      " 4 3 7 1 5 5 9 3 6 0 5 3 2 1 8 1 4 5 0 3 6 6 3 5 4 2 4 6 9 1 7 8 6 2 4 0 6\n",
      " 1 9 1 4 0 8 0 5 3 0 8 0 7 5 9 6 2 3 0 0 6 3 3 8 7 6 8 6 1 2 0 1 7 2 1 3 5\n",
      " 0 6 7 4 6 3 8 4 4 7 2 5 4 1 9 9 9 2 1 0 5 1 4 7 4 2 0 3 6 3 1 5 6 4 8 7 5\n",
      " 2 9 1 9 3 8 8 4 2 6 6 4 4 0 0 4 8 9 5 1 6 9 8 9 7 2 2 2 1 5 6 9 3 4 2 6 3\n",
      " 9 4 1 6 6 5 5 7 8 4 0 1 5 5 3 0 9 2 8 2 0 8 7 5 2 2 7 7 8 2 3 2 1 4 5 0 2\n",
      " 8 7 4 5 8 5 3 7 4 8 7 3 4 5 3 4 4 1 7 9 9 9 1 0 2 8 4 6 8 5 8 1 2 2 0 9 3\n",
      " 0 4 0 3 6 1]\n"
     ]
    }
   ],
   "source": [
    "print('y_test : \\n',y_test)"
   ]
  },
  {
   "cell_type": "code",
   "execution_count": 74,
   "metadata": {},
   "outputs": [
    {
     "data": {
      "text/plain": [
       "[(7, 7),\n",
       " (6, 6),\n",
       " (3, 3),\n",
       " (9, 9),\n",
       " (0, 0),\n",
       " (2, 2),\n",
       " (9, 9),\n",
       " (0, 0),\n",
       " (4, 4),\n",
       " (0, 0),\n",
       " (8, 8),\n",
       " (2, 2),\n",
       " (6, 6),\n",
       " (9, 9),\n",
       " (6, 6),\n",
       " (0, 0),\n",
       " (5, 5),\n",
       " (1, 1),\n",
       " (9, 9),\n",
       " (0, 0),\n",
       " (4, 4),\n",
       " (4, 4),\n",
       " (0, 0),\n",
       " (0, 0),\n",
       " (2, 2),\n",
       " (7, 7),\n",
       " (4, 4),\n",
       " (4, 4),\n",
       " (1, 1),\n",
       " (9, 9),\n",
       " (7, 7),\n",
       " (4, 4),\n",
       " (5, 5),\n",
       " (7, 7),\n",
       " (7, 7),\n",
       " (1, 1),\n",
       " (2, 2),\n",
       " (7, 7),\n",
       " (4, 4),\n",
       " (7, 7),\n",
       " (8, 8),\n",
       " (0, 0),\n",
       " (0, 0),\n",
       " (2, 2),\n",
       " (6, 6),\n",
       " (4, 4),\n",
       " (8, 8),\n",
       " (0, 0),\n",
       " (1, 1),\n",
       " (7, 7),\n",
       " (9, 9),\n",
       " (5, 5),\n",
       " (1, 1),\n",
       " (3, 3),\n",
       " (3, 3),\n",
       " (2, 2),\n",
       " (2, 2),\n",
       " (3, 3),\n",
       " (5, 5),\n",
       " (3, 3),\n",
       " (8, 8),\n",
       " (3, 3),\n",
       " (5, 5),\n",
       " (3, 3),\n",
       " (4, 4),\n",
       " (3, 3),\n",
       " (5, 5),\n",
       " (0, 0),\n",
       " (5, 5),\n",
       " (4, 4),\n",
       " (9, 9),\n",
       " (9, 9),\n",
       " (2, 2),\n",
       " (2, 2),\n",
       " (9, 9),\n",
       " (2, 2),\n",
       " (3, 3),\n",
       " (2, 2),\n",
       " (7, 7),\n",
       " (8, 8),\n",
       " (7, 7),\n",
       " (5, 5),\n",
       " (3, 3),\n",
       " (1, 1),\n",
       " (3, 3),\n",
       " (0, 0),\n",
       " (8, 8),\n",
       " (4, 4),\n",
       " (5, 5),\n",
       " (5, 5),\n",
       " (8, 1),\n",
       " (8, 8),\n",
       " (4, 4),\n",
       " (7, 7),\n",
       " (6, 6),\n",
       " (2, 2),\n",
       " (4, 4),\n",
       " (1, 1),\n",
       " (4, 4),\n",
       " (3, 3),\n",
       " (5, 5),\n",
       " (2, 2),\n",
       " (9, 9),\n",
       " (0, 0),\n",
       " (2, 3),\n",
       " (9, 9),\n",
       " (2, 2),\n",
       " (1, 1),\n",
       " (3, 3),\n",
       " (6, 6),\n",
       " (5, 5),\n",
       " (7, 7),\n",
       " (3, 3),\n",
       " (2, 2),\n",
       " (9, 9),\n",
       " (5, 5),\n",
       " (3, 3),\n",
       " (4, 4),\n",
       " (1, 1),\n",
       " (3, 3),\n",
       " (0, 0),\n",
       " (9, 9),\n",
       " (1, 1),\n",
       " (9, 9),\n",
       " (3, 3),\n",
       " (2, 2),\n",
       " (5, 5),\n",
       " (1, 1),\n",
       " (2, 2),\n",
       " (9, 9),\n",
       " (0, 0),\n",
       " (8, 9),\n",
       " (2, 2),\n",
       " (1, 1),\n",
       " (7, 7),\n",
       " (7, 7),\n",
       " (7, 7),\n",
       " (3, 3),\n",
       " (1, 1),\n",
       " (8, 8),\n",
       " (3, 3),\n",
       " (4, 4),\n",
       " (0, 0),\n",
       " (8, 5),\n",
       " (1, 1),\n",
       " (6, 6),\n",
       " (6, 6),\n",
       " (9, 9),\n",
       " (7, 7),\n",
       " (4, 4),\n",
       " (3, 3),\n",
       " (0, 0),\n",
       " (7, 7),\n",
       " (5, 5),\n",
       " (1, 1),\n",
       " (8, 8),\n",
       " (2, 2),\n",
       " (3, 3),\n",
       " (2, 2),\n",
       " (8, 8),\n",
       " (0, 0),\n",
       " (8, 6),\n",
       " (2, 2),\n",
       " (3, 3),\n",
       " (4, 4),\n",
       " (7, 7),\n",
       " (3, 3),\n",
       " (8, 8),\n",
       " (6, 6),\n",
       " (7, 7),\n",
       " (0, 0),\n",
       " (3, 3),\n",
       " (4, 4),\n",
       " (2, 2),\n",
       " (9, 9),\n",
       " (0, 0),\n",
       " (0, 0),\n",
       " (9, 9),\n",
       " (7, 7),\n",
       " (0, 0),\n",
       " (4, 4),\n",
       " (8, 8),\n",
       " (3, 3),\n",
       " (8, 8),\n",
       " (5, 5),\n",
       " (1, 1),\n",
       " (2, 2),\n",
       " (7, 7),\n",
       " (8, 8),\n",
       " (5, 5),\n",
       " (3, 3),\n",
       " (6, 6),\n",
       " (6, 6),\n",
       " (8, 8),\n",
       " (2, 2),\n",
       " (8, 8),\n",
       " (1, 1),\n",
       " (2, 2),\n",
       " (1, 1),\n",
       " (8, 8),\n",
       " (2, 2),\n",
       " (7, 7),\n",
       " (2, 2),\n",
       " (6, 6),\n",
       " (4, 4),\n",
       " (5, 5),\n",
       " (7, 7),\n",
       " (2, 2),\n",
       " (6, 6),\n",
       " (8, 8),\n",
       " (8, 8),\n",
       " (5, 5),\n",
       " (2, 2),\n",
       " (8, 8),\n",
       " (1, 1),\n",
       " (4, 4),\n",
       " (9, 9),\n",
       " (3, 3),\n",
       " (9, 9),\n",
       " (8, 8),\n",
       " (7, 7),\n",
       " (7, 7),\n",
       " (4, 4),\n",
       " (3, 3),\n",
       " (7, 7),\n",
       " (1, 1),\n",
       " (5, 5),\n",
       " (5, 5),\n",
       " (9, 9),\n",
       " (3, 3),\n",
       " (6, 6),\n",
       " (0, 0),\n",
       " (5, 5),\n",
       " (3, 3),\n",
       " (2, 8),\n",
       " (1, 1),\n",
       " (8, 1),\n",
       " (1, 1),\n",
       " (4, 4),\n",
       " (5, 8),\n",
       " (0, 0),\n",
       " (3, 3),\n",
       " (6, 6),\n",
       " (6, 6),\n",
       " (3, 3),\n",
       " (5, 5),\n",
       " (4, 4),\n",
       " (2, 2),\n",
       " (4, 4),\n",
       " (6, 6),\n",
       " (9, 9),\n",
       " (1, 1),\n",
       " (7, 7),\n",
       " (8, 8),\n",
       " (6, 6),\n",
       " (2, 2),\n",
       " (4, 4),\n",
       " (0, 0),\n",
       " (6, 6),\n",
       " (1, 1),\n",
       " (9, 9),\n",
       " (1, 1),\n",
       " (4, 4),\n",
       " (0, 0),\n",
       " (8, 8),\n",
       " (0, 0),\n",
       " (5, 5),\n",
       " (3, 3),\n",
       " (0, 0),\n",
       " (8, 8),\n",
       " (0, 0),\n",
       " (7, 7),\n",
       " (5, 5),\n",
       " (9, 9),\n",
       " (6, 6),\n",
       " (2, 2),\n",
       " (3, 3),\n",
       " (0, 0),\n",
       " (0, 0),\n",
       " (6, 6),\n",
       " (3, 3),\n",
       " (3, 3),\n",
       " (8, 8),\n",
       " (7, 7),\n",
       " (6, 6),\n",
       " (8, 8),\n",
       " (6, 6),\n",
       " (1, 1),\n",
       " (2, 2),\n",
       " (0, 0),\n",
       " (1, 1),\n",
       " (7, 7),\n",
       " (2, 2),\n",
       " (1, 1),\n",
       " (3, 3),\n",
       " (5, 5),\n",
       " (0, 0),\n",
       " (6, 6),\n",
       " (7, 7),\n",
       " (4, 4),\n",
       " (6, 6),\n",
       " (3, 3),\n",
       " (8, 8),\n",
       " (4, 4),\n",
       " (4, 4),\n",
       " (7, 7),\n",
       " (2, 2),\n",
       " (5, 5),\n",
       " (4, 4),\n",
       " (1, 1),\n",
       " (9, 3),\n",
       " (9, 9),\n",
       " (9, 9),\n",
       " (2, 2),\n",
       " (1, 1),\n",
       " (0, 0),\n",
       " (5, 5),\n",
       " (1, 1),\n",
       " (4, 4),\n",
       " (7, 7),\n",
       " (4, 4),\n",
       " (2, 2),\n",
       " (0, 0),\n",
       " (3, 3),\n",
       " (6, 6),\n",
       " (3, 3),\n",
       " (1, 1),\n",
       " (5, 5),\n",
       " (6, 6),\n",
       " (4, 4),\n",
       " (8, 8),\n",
       " (7, 7),\n",
       " (5, 5),\n",
       " (2, 2),\n",
       " (9, 9),\n",
       " (1, 1),\n",
       " (9, 9),\n",
       " (3, 3),\n",
       " (8, 8),\n",
       " (8, 1),\n",
       " (4, 4),\n",
       " (2, 2),\n",
       " (6, 6),\n",
       " (6, 6),\n",
       " (4, 4),\n",
       " (4, 4),\n",
       " (0, 0),\n",
       " (0, 0),\n",
       " (4, 4),\n",
       " (8, 8),\n",
       " (9, 9),\n",
       " (5, 5),\n",
       " (1, 1),\n",
       " (6, 6),\n",
       " (9, 9),\n",
       " (8, 8),\n",
       " (9, 9),\n",
       " (7, 7),\n",
       " (2, 2),\n",
       " (2, 2),\n",
       " (2, 2),\n",
       " (1, 1),\n",
       " (5, 5),\n",
       " (6, 6),\n",
       " (9, 9),\n",
       " (3, 3),\n",
       " (4, 4),\n",
       " (2, 1),\n",
       " (6, 6),\n",
       " (3, 3),\n",
       " (9, 9),\n",
       " (4, 4),\n",
       " (1, 1),\n",
       " (6, 6),\n",
       " (6, 6),\n",
       " (5, 5),\n",
       " (5, 5),\n",
       " (7, 7),\n",
       " (8, 1),\n",
       " (4, 4),\n",
       " (0, 0),\n",
       " (1, 1),\n",
       " (5, 5),\n",
       " (5, 5),\n",
       " (3, 3),\n",
       " (0, 0),\n",
       " (9, 5),\n",
       " (2, 2),\n",
       " (8, 8),\n",
       " (2, 2),\n",
       " (0, 0),\n",
       " (8, 8),\n",
       " (7, 7),\n",
       " (5, 5),\n",
       " (2, 2),\n",
       " (2, 2),\n",
       " (7, 7),\n",
       " (7, 7),\n",
       " (8, 8),\n",
       " (2, 2),\n",
       " (3, 3),\n",
       " (2, 2),\n",
       " (1, 1),\n",
       " (4, 4),\n",
       " (5, 5),\n",
       " (0, 0),\n",
       " (2, 3),\n",
       " (8, 8),\n",
       " (7, 7),\n",
       " (4, 4),\n",
       " (5, 5),\n",
       " (8, 8),\n",
       " (5, 5),\n",
       " (3, 3),\n",
       " (7, 7),\n",
       " (4, 4),\n",
       " (8, 8),\n",
       " (7, 7),\n",
       " (3, 3),\n",
       " (4, 4),\n",
       " (5, 5),\n",
       " (3, 3),\n",
       " (4, 4),\n",
       " (4, 4),\n",
       " (1, 1),\n",
       " (7, 7),\n",
       " (9, 9),\n",
       " (9, 9),\n",
       " (9, 9),\n",
       " (1, 1),\n",
       " (0, 0),\n",
       " (2, 2),\n",
       " (8, 8),\n",
       " (4, 4),\n",
       " (6, 6),\n",
       " (8, 8),\n",
       " (5, 5),\n",
       " (8, 8),\n",
       " (1, 1),\n",
       " (2, 2),\n",
       " (2, 2),\n",
       " (0, 0),\n",
       " (9, 9),\n",
       " (3, 3),\n",
       " (0, 0),\n",
       " (4, 4),\n",
       " (0, 0),\n",
       " (3, 3),\n",
       " (6, 5),\n",
       " (1, 1)]"
      ]
     },
     "execution_count": 74,
     "metadata": {},
     "output_type": "execute_result"
    }
   ],
   "source": [
    "list(zip(y_test,prediction))"
   ]
  },
  {
   "cell_type": "code",
   "execution_count": 82,
   "metadata": {},
   "outputs": [
    {
     "name": "stdout",
     "output_type": "stream",
     "text": [
      "Misclassified at ctr= 90 Predicted to be :  1 True Label :  8\n",
      "Misclassified at ctr= 104 Predicted to be :  3 True Label :  2\n",
      "Misclassified at ctr= 131 Predicted to be :  9 True Label :  8\n",
      "Misclassified at ctr= 143 Predicted to be :  5 True Label :  8\n",
      "Misclassified at ctr= 161 Predicted to be :  6 True Label :  8\n",
      "Misclassified at ctr= 234 Predicted to be :  8 True Label :  2\n",
      "Misclassified at ctr= 236 Predicted to be :  1 True Label :  8\n",
      "Misclassified at ctr= 239 Predicted to be :  8 True Label :  5\n",
      "Misclassified at ctr= 310 Predicted to be :  3 True Label :  9\n",
      "Misclassified at ctr= 339 Predicted to be :  1 True Label :  8\n",
      "Misclassified at ctr= 367 Predicted to be :  1 True Label :  2\n",
      "Misclassified at ctr= 378 Predicted to be :  1 True Label :  8\n",
      "Misclassified at ctr= 386 Predicted to be :  5 True Label :  9\n",
      "Misclassified at ctr= 406 Predicted to be :  3 True Label :  2\n",
      "Misclassified at ctr= 448 Predicted to be :  5 True Label :  6\n",
      "Final Score : 435 / 450\n",
      "Number of misclassification : 15\n"
     ]
    }
   ],
   "source": [
    "#Evaluation model performance\n",
    "ctr = 0\n",
    "score = 0\n",
    "scoref = 0\n",
    "misclassified=[]\n",
    "for i,j in zip(y_test,prediction):\n",
    "    if i==j:\n",
    "        score +=1\n",
    "    else:\n",
    "        misclassified.append((X_test[ctr],y_test[ctr],prediction[ctr]))#Logging misclassifief data\n",
    "        print(\"Misclassified at ctr=\",ctr,\"Predicted to be : \",prediction[ctr],\"True Label : \",y_test[ctr])\n",
    "        scoref +=1\n",
    "    ctr+=1\n",
    "\n",
    "print(\"Final Score :\",score,'/',len(y_test))\n",
    "print(\"Number of misclassification :\",len(misclassified)) #print(\"Number of misclassification :\",scoref)"
   ]
  },
  {
   "cell_type": "code",
   "execution_count": 84,
   "metadata": {},
   "outputs": [
    {
     "data": {
      "image/png": "[encoded data removed]",
      "text/plain": [
       "<Figure size 432x288 with 1 Axes>"
      ]
     },
     "metadata": {
      "needs_background": "light"
     },
     "output_type": "display_data"
    },
    {
     "name": "stdout",
     "output_type": "stream",
     "text": [
      "Expected class : 8\n",
      "Predicted class : 1\n"
     ]
    },
    {
     "data": {
      "image/png": "[encoded data removed]",
      "text/plain": [
       "<Figure size 432x288 with 1 Axes>"
      ]
     },
     "metadata": {
      "needs_background": "light"
     },
     "output_type": "display_data"
    },
    {
     "name": "stdout",
     "output_type": "stream",
     "text": [
      "Expected class : 2\n",
      "Predicted class : 3\n"
     ]
    },
    {
     "data": {
      "image/png": "[encoded data removed]",
      "text/plain": [
       "<Figure size 432x288 with 1 Axes>"
      ]
     },
     "metadata": {
      "needs_background": "light"
     },
     "output_type": "display_data"
    },
    {
     "name": "stdout",
     "output_type": "stream",
     "text": [
      "Expected class : 8\n",
      "Predicted class : 9\n"
     ]
    },
    {
     "data": {
      "image/png": "[encoded data removed]",
      "text/plain": [
       "<Figure size 432x288 with 1 Axes>"
      ]
     },
     "metadata": {
      "needs_background": "light"
     },
     "output_type": "display_data"
    },
    {
     "name": "stdout",
     "output_type": "stream",
     "text": [
      "Expected class : 8\n",
      "Predicted class : 5\n"
     ]
    },
    {
     "data": {
      "image/png": "[encoded data removed]",
      "text/plain": [
       "<Figure size 432x288 with 1 Axes>"
      ]
     },
     "metadata": {
      "needs_background": "light"
     },
     "output_type": "display_data"
    },
    {
     "name": "stdout",
     "output_type": "stream",
     "text": [
      "Expected class : 8\n",
      "Predicted class : 6\n"
     ]
    },
    {
     "data": {
      "image/png": "[encoded data removed]",
      "text/plain": [
       "<Figure size 432x288 with 1 Axes>"
      ]
     },
     "metadata": {
      "needs_background": "light"
     },
     "output_type": "display_data"
    },
    {
     "name": "stdout",
     "output_type": "stream",
     "text": [
      "Expected class : 2\n",
      "Predicted class : 8\n"
     ]
    },
    {
     "data": {
      "image/png": "[encoded data removed]",
      "text/plain": [
       "<Figure size 432x288 with 1 Axes>"
      ]
     },
     "metadata": {
      "needs_background": "light"
     },
     "output_type": "display_data"
    },
    {
     "name": "stdout",
     "output_type": "stream",
     "text": [
      "Expected class : 8\n",
      "Predicted class : 1\n"
     ]
    },
    {
     "data": {
      "image/png": "[encoded data removed]",
      "text/plain": [
       "<Figure size 432x288 with 1 Axes>"
      ]
     },
     "metadata": {
      "needs_background": "light"
     },
     "output_type": "display_data"
    },
    {
     "name": "stdout",
     "output_type": "stream",
     "text": [
      "Expected class : 5\n",
      "Predicted class : 8\n"
     ]
    },
    {
     "data": {
      "image/png": "[encoded data removed]",
      "text/plain": [
       "<Figure size 432x288 with 1 Axes>"
      ]
     },
     "metadata": {
      "needs_background": "light"
     },
     "output_type": "display_data"
    },
    {
     "name": "stdout",
     "output_type": "stream",
     "text": [
      "Expected class : 9\n",
      "Predicted class : 3\n"
     ]
    },
    {
     "data": {
      "image/png": "[encoded data removed]",
      "text/plain": [
       "<Figure size 432x288 with 1 Axes>"
      ]
     },
     "metadata": {
      "needs_background": "light"
     },
     "output_type": "display_data"
    },
    {
     "name": "stdout",
     "output_type": "stream",
     "text": [
      "Expected class : 8\n",
      "Predicted class : 1\n"
     ]
    },
    {
     "data": {
      "image/png": "[encoded data removed]",
      "text/plain": [
       "<Figure size 432x288 with 1 Axes>"
      ]
     },
     "metadata": {
      "needs_background": "light"
     },
     "output_type": "display_data"
    },
    {
     "name": "stdout",
     "output_type": "stream",
     "text": [
      "Expected class : 2\n",
      "Predicted class : 1\n"
     ]
    },
    {
     "data": {
      "image/png": "[encoded data removed]",
      "text/plain": [
       "<Figure size 432x288 with 1 Axes>"
      ]
     },
     "metadata": {
      "needs_background": "light"
     },
     "output_type": "display_data"
    },
    {
     "name": "stdout",
     "output_type": "stream",
     "text": [
      "Expected class : 8\n",
      "Predicted class : 1\n"
     ]
    },
    {
     "data": {
      "image/png": "[encoded data removed]",
      "text/plain": [
       "<Figure size 432x288 with 1 Axes>"
      ]
     },
     "metadata": {
      "needs_background": "light"
     },
     "output_type": "display_data"
    },
    {
     "name": "stdout",
     "output_type": "stream",
     "text": [
      "Expected class : 9\n",
      "Predicted class : 5\n"
     ]
    },
    {
     "data": {
      "image/png": "[encoded data removed]",
      "text/plain": [
       "<Figure size 432x288 with 1 Axes>"
      ]
     },
     "metadata": {
      "needs_background": "light"
     },
     "output_type": "display_data"
    },
    {
     "name": "stdout",
     "output_type": "stream",
     "text": [
      "Expected class : 2\n",
      "Predicted class : 3\n"
     ]
    },
    {
     "data": {
      "image/png": "[encoded data removed]",
      "text/plain": [
       "<Figure size 432x288 with 1 Axes>"
      ]
     },
     "metadata": {
      "needs_background": "light"
     },
     "output_type": "display_data"
    },
    {
     "name": "stdout",
     "output_type": "stream",
     "text": [
      "Expected class : 6\n",
      "Predicted class : 5\n"
     ]
    }
   ],
   "source": [
    "#Looking at our misclassification \n",
    "for data in misclassified:\n",
    "    plt.imshow(data[0].reshape(8,8))\n",
    "    plt.show()\n",
    "    print(\"Expected class :\",data[1]) #data[1] is y_test\n",
    "    print(\"Predicted class :\",data[2]) #dtat[2] is pictiction"
   ]
  },
  {
   "cell_type": "code",
   "execution_count": 88,
   "metadata": {},
   "outputs": [],
   "source": [
    "from sklearn.metrics import classification_report, confusion_matrix"
   ]
  },
  {
   "cell_type": "code",
   "execution_count": 90,
   "metadata": {},
   "outputs": [
    {
     "name": "stdout",
     "output_type": "stream",
     "text": [
      "Confusion Matrix: \n",
      " [[45  0  0  0  0  0  0  0  0  0]\n",
      " [ 0 42  0  0  0  0  0  0  0  0]\n",
      " [ 0  1 51  2  0  0  0  0  1  0]\n",
      " [ 0  0  0 50  0  0  0  0  0  0]\n",
      " [ 0  0  0  0 50  0  0  0  0  0]\n",
      " [ 0  0  0  0  0 42  0  0  1  0]\n",
      " [ 0  0  0  0  0  1 35  0  0  0]\n",
      " [ 0  0  0  0  0  0  0 43  0  0]\n",
      " [ 0  4  0  0  0  1  1  0 40  1]\n",
      " [ 0  0  0  1  0  1  0  0  0 37]]\n"
     ]
    }
   ],
   "source": [
    "print('Confusion Matrix: \\n',confusion_matrix(y_test,prediction))"
   ]
  },
  {
   "cell_type": "code",
   "execution_count": 91,
   "metadata": {},
   "outputs": [
    {
     "name": "stdout",
     "output_type": "stream",
     "text": [
      "Model Score Index: \n",
      "               precision    recall  f1-score   support\n",
      "\n",
      "           0       1.00      1.00      1.00        45\n",
      "           1       0.89      1.00      0.94        42\n",
      "           2       1.00      0.93      0.96        55\n",
      "           3       0.94      1.00      0.97        50\n",
      "           4       1.00      1.00      1.00        50\n",
      "           5       0.93      0.98      0.95        43\n",
      "           6       0.97      0.97      0.97        36\n",
      "           7       1.00      1.00      1.00        43\n",
      "           8       0.95      0.85      0.90        47\n",
      "           9       0.97      0.95      0.96        39\n",
      "\n",
      "    accuracy                           0.97       450\n",
      "   macro avg       0.97      0.97      0.97       450\n",
      "weighted avg       0.97      0.97      0.97       450\n",
      "\n"
     ]
    }
   ],
   "source": [
    "print('Model Score Index: \\n',classification_report(y_test,prediction))"
   ]
  },
  {
   "cell_type": "code",
   "execution_count": null,
   "metadata": {},
   "outputs": [],
   "source": []
  }
 ],
 "metadata": {
  "kernelspec": {
   "display_name": "Python 3",
   "language": "python",
   "name": "python3"
  },
  "language_info": {
   "codemirror_mode": {
    "name": "ipython",
    "version": 3
   },
   "file_extension": ".py",
   "mimetype": "text/x-python",
   "name": "python",
   "nbconvert_exporter": "python",
   "pygments_lexer": "ipython3",
   "version": "3.7.7"
  }
 },
 "nbformat": 4,
 "nbformat_minor": 2
}
