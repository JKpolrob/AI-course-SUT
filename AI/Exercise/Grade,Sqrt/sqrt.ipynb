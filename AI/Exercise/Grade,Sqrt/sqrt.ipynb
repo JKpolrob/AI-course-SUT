{
 "cells": [
  {
   "cell_type": "code",
   "execution_count": 9,
   "metadata": {},
   "outputs": [
    {
     "name": "stdout",
     "output_type": "stream",
     "text": [
      "Enter a : 1\n",
      "Enter b : 5\n",
      "Enter c : 6\n",
      "The solutions are (-2+0j) and (-3+0j)\n"
     ]
    }
   ],
   "source": [
    "import math\n",
    "\n",
    "a = int(input('Enter a : '))\n",
    "b = int(input('Enter b : '))\n",
    "c = int(input('Enter c : '))\n",
    "X1 = complex((-b+math.sqrt(b**2-4*a*c))/(2*a))\n",
    "X2 = complex(-b-math.sqrt(b**2-4*a*c))/(2*a)\n",
    "print('The solutions are {} and {}'.format(X1,X2))\n"
   ]
  },
  {
   "cell_type": "code",
   "execution_count": 11,
   "metadata": {},
   "outputs": [
    {
     "name": "stdout",
     "output_type": "stream",
     "text": [
      "the value of X before swapping:5\n",
      "the value of Y before swapping:10\n",
      "the value of X before swapping:10\n",
      "the value of Y before swapping:5\n"
     ]
    }
   ],
   "source": [
    "X = int(input('the value of X before swapping:'))\n",
    "Y = int(input('the value of Y before swapping:'))\n",
    "print('''the value of X before swapping:{1}\n",
    "the value of Y before swapping:{0}'''.format(X,Y))"
   ]
  },
  {
   "cell_type": "code",
   "execution_count": 12,
   "metadata": {},
   "outputs": [
    {
     "name": "stdout",
     "output_type": "stream",
     "text": [
      "kilometer :5.5\n",
      "5.500 kilometers is equal to 3.418 miles\n"
     ]
    }
   ],
   "source": [
    "#Convert Kiilometer to mile\n",
    "K = float(input('kilometer :'))\n",
    "M = 0.621371*K\n",
    "print('{:,.3f} kilometers is equal to {:,.3f} miles'.format(K,M))"
   ]
  },
  {
   "cell_type": "code",
   "execution_count": null,
   "metadata": {},
   "outputs": [],
   "source": []
  }
 ],
 "metadata": {
  "kernelspec": {
   "display_name": "Python 3",
   "language": "python",
   "name": "python3"
  },
  "language_info": {
   "codemirror_mode": {
    "name": "ipython",
    "version": 3
   },
   "file_extension": ".py",
   "mimetype": "text/x-python",
   "name": "python",
   "nbconvert_exporter": "python",
   "pygments_lexer": "ipython3",
   "version": "3.7.5"
  }
 },
 "nbformat": 4,
 "nbformat_minor": 2
}
