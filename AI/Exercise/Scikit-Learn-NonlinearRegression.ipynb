{
 "cells": [
  {
   "cell_type": "code",
   "execution_count": 7,
   "metadata": {},
   "outputs": [],
   "source": [
    "import numpy as np\n",
    "import matplotlib.pyplot as plt\n",
    "from sklearn import linear_model"
   ]
  },
  {
   "cell_type": "code",
   "execution_count": 2,
   "metadata": {},
   "outputs": [],
   "source": [
    "x = np.linspace(-5,5,100).reshape(-1,1)\n",
    "y = -0.5 + 2.2*x+0.3*x**3 + 2*np.random.randn(100,1)"
   ]
  },
  {
   "cell_type": "code",
   "execution_count": 3,
   "metadata": {},
   "outputs": [
    {
     "data": {
      "image/png": "[encoded data removed]",
      "text/plain": [
       "<Figure size 432x288 with 1 Axes>"
      ]
     },
     "metadata": {
      "needs_background": "light"
     },
     "output_type": "display_data"
    }
   ],
   "source": [
    "plt.scatter(x,y)\n",
    "plt.show()"
   ]
  },
  {
   "cell_type": "code",
   "execution_count": null,
   "metadata": {},
   "outputs": [],
   "source": [
    "#สร้าง x order ต่างๆขึ้นมาโดยยึดแกน x มาทำ ใช้ np.hstack ปรับค่าได้ตามต้องการ ตาม columns"
   ]
  },
  {
   "cell_type": "code",
   "execution_count": 4,
   "metadata": {},
   "outputs": [],
   "source": [
    "x_new = np.hstack([x,x**2,x**3,x**4])"
   ]
  },
  {
   "cell_type": "code",
   "execution_count": 5,
   "metadata": {},
   "outputs": [
    {
     "data": {
      "text/plain": [
       "array([[-5.00000000e+00,  2.50000000e+01, -1.25000000e+02,\n",
       "         6.25000000e+02],\n",
       "       [-4.89898990e+00,  2.40001020e+01, -1.17576257e+02,\n",
       "         5.76004897e+02],\n",
       "       [-4.79797980e+00,  2.30206101e+01, -1.10452422e+02,\n",
       "         5.29948491e+02],\n",
       "       [-4.69696970e+00,  2.20615243e+01, -1.03622311e+02,\n",
       "         4.86710856e+02],\n",
       "       [-4.59595960e+00,  2.11228446e+01, -9.70797404e+01,\n",
       "         4.46174564e+02],\n",
       "       [-4.49494949e+00,  2.02045710e+01, -9.08185260e+01,\n",
       "         4.08224688e+02],\n",
       "       [-4.39393939e+00,  1.93067034e+01, -8.48324846e+01,\n",
       "         3.72748796e+02],\n",
       "       [-4.29292929e+00,  1.84292419e+01, -7.91154325e+01,\n",
       "         3.39636958e+02],\n",
       "       [-4.19191919e+00,  1.75721865e+01, -7.36611859e+01,\n",
       "         3.08781739e+02],\n",
       "       [-4.09090909e+00,  1.67355372e+01, -6.84635612e+01,\n",
       "         2.80078205e+02],\n",
       "       [-3.98989899e+00,  1.59192939e+01, -6.35163748e+01,\n",
       "         2.53423920e+02],\n",
       "       [-3.88888889e+00,  1.51234568e+01, -5.88134431e+01,\n",
       "         2.28718945e+02],\n",
       "       [-3.78787879e+00,  1.43480257e+01, -5.43485822e+01,\n",
       "         2.05865842e+02],\n",
       "       [-3.68686869e+00,  1.35930007e+01, -5.01156087e+01,\n",
       "         1.84769668e+02],\n",
       "       [-3.58585859e+00,  1.28583818e+01, -4.61083388e+01,\n",
       "         1.65337982e+02],\n",
       "       [-3.48484848e+00,  1.21441690e+01, -4.23205888e+01,\n",
       "         1.47480840e+02],\n",
       "       [-3.38383838e+00,  1.14503622e+01, -3.87461751e+01,\n",
       "         1.31110795e+02],\n",
       "       [-3.28282828e+00,  1.07769615e+01, -3.53789141e+01,\n",
       "         1.16142900e+02],\n",
       "       [-3.18181818e+00,  1.01239669e+01, -3.22126221e+01,\n",
       "         1.02494707e+02],\n",
       "       [-3.08080808e+00,  9.49137843e+00, -2.92411154e+01,\n",
       "         9.00862645e+01],\n",
       "       [-2.97979798e+00,  8.87919600e+00, -2.64582103e+01,\n",
       "         7.88401216e+01],\n",
       "       [-2.87878788e+00,  8.28741965e+00, -2.38577232e+01,\n",
       "         6.86813245e+01],\n",
       "       [-2.77777778e+00,  7.71604938e+00, -2.14334705e+01,\n",
       "         5.95374181e+01],\n",
       "       [-2.67676768e+00,  7.16508520e+00, -1.91792685e+01,\n",
       "         5.13384459e+01],\n",
       "       [-2.57575758e+00,  6.63452709e+00, -1.70889334e+01,\n",
       "         4.40169497e+01],\n",
       "       [-2.47474747e+00,  6.12437506e+00, -1.51562817e+01,\n",
       "         3.75079699e+01],\n",
       "       [-2.37373737e+00,  5.63462912e+00, -1.33751297e+01,\n",
       "         3.17490453e+01],\n",
       "       [-2.27272727e+00,  5.16528926e+00, -1.17392938e+01,\n",
       "         2.66802131e+01],\n",
       "       [-2.17171717e+00,  4.71635547e+00, -1.02425902e+01,\n",
       "         2.22440090e+01],\n",
       "       [-2.07070707e+00,  4.28782777e+00, -8.87883529e+00,\n",
       "         1.83854670e+01],\n",
       "       [-1.96969697e+00,  3.87970615e+00, -7.64184545e+00,\n",
       "         1.50521198e+01],\n",
       "       [-1.86868687e+00,  3.49199061e+00, -6.52543700e+00,\n",
       "         1.21939984e+01],\n",
       "       [-1.76767677e+00,  3.12468115e+00, -5.52342628e+00,\n",
       "         9.76363232e+00],\n",
       "       [-1.66666667e+00,  2.77777778e+00, -4.62962963e+00,\n",
       "         7.71604938e+00],\n",
       "       [-1.56565657e+00,  2.45128048e+00, -3.83786338e+00,\n",
       "         6.00877600e+00],\n",
       "       [-1.46464646e+00,  2.14518927e+00, -3.14194388e+00,\n",
       "         4.60183699e+00],\n",
       "       [-1.36363636e+00,  1.85950413e+00, -2.53568745e+00,\n",
       "         3.45775562e+00],\n",
       "       [-1.26262626e+00,  1.59422508e+00, -2.01291045e+00,\n",
       "         2.54155360e+00],\n",
       "       [-1.16161616e+00,  1.34935211e+00, -1.56742922e+00,\n",
       "         1.82075111e+00],\n",
       "       [-1.06060606e+00,  1.12488522e+00, -1.19306008e+00,\n",
       "         1.26536675e+00],\n",
       "       [-9.59595960e-01,  9.20824406e-01, -8.83619379e-01,\n",
       "         8.47917586e-01],\n",
       "       [-8.58585859e-01,  7.37169677e-01, -6.32923460e-01,\n",
       "         5.43419132e-01],\n",
       "       [-7.57575758e-01,  5.73921028e-01, -4.34788658e-01,\n",
       "         3.29385347e-01],\n",
       "       [-6.56565657e-01,  4.31078461e-01, -2.83031313e-01,\n",
       "         1.85828640e-01],\n",
       "       [-5.55555556e-01,  3.08641975e-01, -1.71467764e-01,\n",
       "         9.52598689e-02],\n",
       "       [-4.54545455e-01,  2.06611570e-01, -9.39143501e-02,\n",
       "         4.26883410e-02],\n",
       "       [-3.53535354e-01,  1.24987246e-01, -4.41874103e-02,\n",
       "         1.56218117e-02],\n",
       "       [-2.52525253e-01,  6.37690032e-02, -1.61032836e-02,\n",
       "         4.06648576e-03],\n",
       "       [-1.51515152e-01,  2.29568411e-02, -3.47830926e-03,\n",
       "         5.27016555e-04],\n",
       "       [-5.05050505e-02,  2.55076013e-03, -1.28826269e-04,\n",
       "         6.50637722e-06],\n",
       "       [ 5.05050505e-02,  2.55076013e-03,  1.28826269e-04,\n",
       "         6.50637722e-06],\n",
       "       [ 1.51515152e-01,  2.29568411e-02,  3.47830926e-03,\n",
       "         5.27016555e-04],\n",
       "       [ 2.52525253e-01,  6.37690032e-02,  1.61032836e-02,\n",
       "         4.06648576e-03],\n",
       "       [ 3.53535354e-01,  1.24987246e-01,  4.41874103e-02,\n",
       "         1.56218117e-02],\n",
       "       [ 4.54545455e-01,  2.06611570e-01,  9.39143501e-02,\n",
       "         4.26883410e-02],\n",
       "       [ 5.55555556e-01,  3.08641975e-01,  1.71467764e-01,\n",
       "         9.52598689e-02],\n",
       "       [ 6.56565657e-01,  4.31078461e-01,  2.83031313e-01,\n",
       "         1.85828640e-01],\n",
       "       [ 7.57575758e-01,  5.73921028e-01,  4.34788658e-01,\n",
       "         3.29385347e-01],\n",
       "       [ 8.58585859e-01,  7.37169677e-01,  6.32923460e-01,\n",
       "         5.43419132e-01],\n",
       "       [ 9.59595960e-01,  9.20824406e-01,  8.83619379e-01,\n",
       "         8.47917586e-01],\n",
       "       [ 1.06060606e+00,  1.12488522e+00,  1.19306008e+00,\n",
       "         1.26536675e+00],\n",
       "       [ 1.16161616e+00,  1.34935211e+00,  1.56742922e+00,\n",
       "         1.82075111e+00],\n",
       "       [ 1.26262626e+00,  1.59422508e+00,  2.01291045e+00,\n",
       "         2.54155360e+00],\n",
       "       [ 1.36363636e+00,  1.85950413e+00,  2.53568745e+00,\n",
       "         3.45775562e+00],\n",
       "       [ 1.46464646e+00,  2.14518927e+00,  3.14194388e+00,\n",
       "         4.60183699e+00],\n",
       "       [ 1.56565657e+00,  2.45128048e+00,  3.83786338e+00,\n",
       "         6.00877600e+00],\n",
       "       [ 1.66666667e+00,  2.77777778e+00,  4.62962963e+00,\n",
       "         7.71604938e+00],\n",
       "       [ 1.76767677e+00,  3.12468115e+00,  5.52342628e+00,\n",
       "         9.76363232e+00],\n",
       "       [ 1.86868687e+00,  3.49199061e+00,  6.52543700e+00,\n",
       "         1.21939984e+01],\n",
       "       [ 1.96969697e+00,  3.87970615e+00,  7.64184545e+00,\n",
       "         1.50521198e+01],\n",
       "       [ 2.07070707e+00,  4.28782777e+00,  8.87883529e+00,\n",
       "         1.83854670e+01],\n",
       "       [ 2.17171717e+00,  4.71635547e+00,  1.02425902e+01,\n",
       "         2.22440090e+01],\n",
       "       [ 2.27272727e+00,  5.16528926e+00,  1.17392938e+01,\n",
       "         2.66802131e+01],\n",
       "       [ 2.37373737e+00,  5.63462912e+00,  1.33751297e+01,\n",
       "         3.17490453e+01],\n",
       "       [ 2.47474747e+00,  6.12437506e+00,  1.51562817e+01,\n",
       "         3.75079699e+01],\n",
       "       [ 2.57575758e+00,  6.63452709e+00,  1.70889334e+01,\n",
       "         4.40169497e+01],\n",
       "       [ 2.67676768e+00,  7.16508520e+00,  1.91792685e+01,\n",
       "         5.13384459e+01],\n",
       "       [ 2.77777778e+00,  7.71604938e+00,  2.14334705e+01,\n",
       "         5.95374181e+01],\n",
       "       [ 2.87878788e+00,  8.28741965e+00,  2.38577232e+01,\n",
       "         6.86813245e+01],\n",
       "       [ 2.97979798e+00,  8.87919600e+00,  2.64582103e+01,\n",
       "         7.88401216e+01],\n",
       "       [ 3.08080808e+00,  9.49137843e+00,  2.92411154e+01,\n",
       "         9.00862645e+01],\n",
       "       [ 3.18181818e+00,  1.01239669e+01,  3.22126221e+01,\n",
       "         1.02494707e+02],\n",
       "       [ 3.28282828e+00,  1.07769615e+01,  3.53789141e+01,\n",
       "         1.16142900e+02],\n",
       "       [ 3.38383838e+00,  1.14503622e+01,  3.87461751e+01,\n",
       "         1.31110795e+02],\n",
       "       [ 3.48484848e+00,  1.21441690e+01,  4.23205888e+01,\n",
       "         1.47480840e+02],\n",
       "       [ 3.58585859e+00,  1.28583818e+01,  4.61083388e+01,\n",
       "         1.65337982e+02],\n",
       "       [ 3.68686869e+00,  1.35930007e+01,  5.01156087e+01,\n",
       "         1.84769668e+02],\n",
       "       [ 3.78787879e+00,  1.43480257e+01,  5.43485822e+01,\n",
       "         2.05865842e+02],\n",
       "       [ 3.88888889e+00,  1.51234568e+01,  5.88134431e+01,\n",
       "         2.28718945e+02],\n",
       "       [ 3.98989899e+00,  1.59192939e+01,  6.35163748e+01,\n",
       "         2.53423920e+02],\n",
       "       [ 4.09090909e+00,  1.67355372e+01,  6.84635612e+01,\n",
       "         2.80078205e+02],\n",
       "       [ 4.19191919e+00,  1.75721865e+01,  7.36611859e+01,\n",
       "         3.08781739e+02],\n",
       "       [ 4.29292929e+00,  1.84292419e+01,  7.91154325e+01,\n",
       "         3.39636958e+02],\n",
       "       [ 4.39393939e+00,  1.93067034e+01,  8.48324846e+01,\n",
       "         3.72748796e+02],\n",
       "       [ 4.49494949e+00,  2.02045710e+01,  9.08185260e+01,\n",
       "         4.08224688e+02],\n",
       "       [ 4.59595960e+00,  2.11228446e+01,  9.70797404e+01,\n",
       "         4.46174564e+02],\n",
       "       [ 4.69696970e+00,  2.20615243e+01,  1.03622311e+02,\n",
       "         4.86710856e+02],\n",
       "       [ 4.79797980e+00,  2.30206101e+01,  1.10452422e+02,\n",
       "         5.29948491e+02],\n",
       "       [ 4.89898990e+00,  2.40001020e+01,  1.17576257e+02,\n",
       "         5.76004897e+02],\n",
       "       [ 5.00000000e+00,  2.50000000e+01,  1.25000000e+02,\n",
       "         6.25000000e+02]])"
      ]
     },
     "execution_count": 5,
     "metadata": {},
     "output_type": "execute_result"
    }
   ],
   "source": [
    "x_new"
   ]
  },
  {
   "cell_type": "code",
   "execution_count": 6,
   "metadata": {},
   "outputs": [
    {
     "data": {
      "text/plain": [
       "(100, 4)"
      ]
     },
     "execution_count": 6,
     "metadata": {},
     "output_type": "execute_result"
    }
   ],
   "source": [
    "x_new.shape"
   ]
  },
  {
   "cell_type": "code",
   "execution_count": null,
   "metadata": {},
   "outputs": [],
   "source": [
    "#เมื่อได้ x ที่มี input หาย order แล้ว ก็ทำการ predict"
   ]
  },
  {
   "cell_type": "code",
   "execution_count": 8,
   "metadata": {},
   "outputs": [],
   "source": [
    "model = linear_model.LinearRegression()"
   ]
  },
  {
   "cell_type": "code",
   "execution_count": 9,
   "metadata": {},
   "outputs": [
    {
     "data": {
      "text/plain": [
       "LinearRegression(copy_X=True, fit_intercept=True, n_jobs=None, normalize=False)"
      ]
     },
     "execution_count": 9,
     "metadata": {},
     "output_type": "execute_result"
    }
   ],
   "source": [
    "model.fit(x_new,y)"
   ]
  },
  {
   "cell_type": "code",
   "execution_count": 10,
   "metadata": {},
   "outputs": [
    {
     "data": {
      "text/plain": [
       "0.9904361552070491"
      ]
     },
     "execution_count": 10,
     "metadata": {},
     "output_type": "execute_result"
    }
   ],
   "source": [
    "model.score(x_new,y)"
   ]
  },
  {
   "cell_type": "code",
   "execution_count": 11,
   "metadata": {},
   "outputs": [
    {
     "data": {
      "text/plain": [
       "array([[ 2.18062855,  0.12997162,  0.30127816, -0.00640186]])"
      ]
     },
     "execution_count": 11,
     "metadata": {},
     "output_type": "execute_result"
    }
   ],
   "source": [
    "model.coef_ # theta 1 , 2 , 3 ,4"
   ]
  },
  {
   "cell_type": "code",
   "execution_count": 12,
   "metadata": {},
   "outputs": [
    {
     "data": {
      "text/plain": [
       "array([-0.88688407])"
      ]
     },
     "execution_count": 12,
     "metadata": {},
     "output_type": "execute_result"
    }
   ],
   "source": [
    "model.intercept_ # theta0"
   ]
  },
  {
   "cell_type": "code",
   "execution_count": 13,
   "metadata": {},
   "outputs": [],
   "source": [
    "#ทำการทำนาย"
   ]
  },
  {
   "cell_type": "code",
   "execution_count": 14,
   "metadata": {},
   "outputs": [],
   "source": [
    "y_predict = model.predict(x_new)"
   ]
  },
  {
   "cell_type": "code",
   "execution_count": 19,
   "metadata": {},
   "outputs": [
    {
     "data": {
      "image/png": "[encoded data removed]",
      "text/plain": [
       "<Figure size 432x288 with 1 Axes>"
      ]
     },
     "metadata": {
      "needs_background": "light"
     },
     "output_type": "display_data"
    }
   ],
   "source": [
    "plt.scatter(x,y)\n",
    "plt.plot(x_new[:,0],y_predict,'red',linewidth = 3)\n",
    "plt.legend(['Observed data','Predicted Line'])\n",
    "plt.show()"
   ]
  },
  {
   "cell_type": "code",
   "execution_count": null,
   "metadata": {},
   "outputs": [],
   "source": []
  }
 ],
 "metadata": {
  "kernelspec": {
   "display_name": "Python 3",
   "language": "python",
   "name": "python3"
  },
  "language_info": {
   "codemirror_mode": {
    "name": "ipython",
    "version": 3
   },
   "file_extension": ".py",
   "mimetype": "text/x-python",
   "name": "python",
   "nbconvert_exporter": "python",
   "pygments_lexer": "ipython3",
   "version": "3.7.7"
  }
 },
 "nbformat": 4,
 "nbformat_minor": 2
}
