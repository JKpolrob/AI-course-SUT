{
 "cells": [
  {
   "cell_type": "code",
   "execution_count": 35,
   "metadata": {},
   "outputs": [
    {
     "name": "stdout",
     "output_type": "stream",
     "text": [
      "square root of 8.000 is 2.828\n",
      "square root of 2.828 is 8.000\n",
      "square root of 8.000 is 2.828\n"
     ]
    }
   ],
   "source": [
    "import math\n",
    "\n",
    "num1 = 8\n",
    "root = math.sqrt(num1)\n",
    "\n",
    "print('square root of {:,.3f} is {:,.3f}'.format(num1,root))\n",
    "\n",
    "#สลับ Index\n",
    "print('square root of {1:,.3f} is {0:,.3f}'.format(num1,root))\n",
    "\n",
    "#แบบใช้ % เพื่อบ่งบอกจำนวนทศนิยม\n",
    "print('square root of %.3f is %.3f'%(num1,root))"
   ]
  },
  {
   "cell_type": "code",
   "execution_count": null,
   "metadata": {},
   "outputs": [],
   "source": []
  }
 ],
 "metadata": {
  "kernelspec": {
   "display_name": "Python 3",
   "language": "python",
   "name": "python3"
  },
  "language_info": {
   "codemirror_mode": {
    "name": "ipython",
    "version": 3
   },
   "file_extension": ".py",
   "mimetype": "text/x-python",
   "name": "python",
   "nbconvert_exporter": "python",
   "pygments_lexer": "ipython3",
   "version": "3.7.5"
  }
 },
 "nbformat": 4,
 "nbformat_minor": 2
}
