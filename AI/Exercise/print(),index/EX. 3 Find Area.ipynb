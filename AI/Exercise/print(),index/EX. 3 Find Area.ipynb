{
 "cells": [
  {
   "cell_type": "code",
   "execution_count": 4,
   "metadata": {},
   "outputs": [
    {
     "name": "stdout",
     "output_type": "stream",
     "text": [
      "The area of the triangle is 14.70\n"
     ]
    }
   ],
   "source": [
    "#Find Area of triangle\n",
    "import math\n",
    "\n",
    "a = 5\n",
    "b = 6\n",
    "c = 7\n",
    "s = (a+b+c)/2\n",
    "AREA = math.sqrt(s*(s-a)*(s-b)*(s-c))\n",
    "print('The area of the triangle is {:,.2f}'.format(AREA))"
   ]
  }
 ],
 "metadata": {
  "kernelspec": {
   "display_name": "Python 3",
   "language": "python",
   "name": "python3"
  },
  "language_info": {
   "codemirror_mode": {
    "name": "ipython",
    "version": 3
   },
   "file_extension": ".py",
   "mimetype": "text/x-python",
   "name": "python",
   "nbconvert_exporter": "python",
   "pygments_lexer": "ipython3",
   "version": "3.7.5"
  }
 },
 "nbformat": 4,
 "nbformat_minor": 2
}
