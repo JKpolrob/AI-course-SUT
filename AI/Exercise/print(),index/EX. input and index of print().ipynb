{
 "cells": [
  {
   "cell_type": "code",
   "execution_count": 10,
   "metadata": {},
   "outputs": [
    {
     "name": "stdout",
     "output_type": "stream",
     "text": [
      "Please Enter Year:1997\n",
      "1997\n",
      "Your Age: 23\n",
      "23\n",
      "birthyear1997 , Age23\n",
      "birthyear23 , Age1997\n"
     ]
    }
   ],
   "source": [
    "birthyear = int(input(\"Please Enter Year:\"))\n",
    "print(birthyear)\n",
    "Age = 2020 - birthyear\n",
    "print('Your Age:',Age)\n",
    "print(str(Age))\n",
    "float(Age)\n",
    "\n",
    "#แสดง2ช่องโดยใช้ .format \n",
    "print('birthyear{} , Age{}'.format(birthyear,Age))\n",
    "#มีการใส่ลำดับ Index ด้วย\n",
    "print('birthyear{1} , Age{0}'.format(birthyear,Age))"
   ]
  },
  {
   "cell_type": "code",
   "execution_count": null,
   "metadata": {},
   "outputs": [],
   "source": []
  }
 ],
 "metadata": {
  "kernelspec": {
   "display_name": "Python 3",
   "language": "python",
   "name": "python3"
  },
  "language_info": {
   "codemirror_mode": {
    "name": "ipython",
    "version": 3
   },
   "file_extension": ".py",
   "mimetype": "text/x-python",
   "name": "python",
   "nbconvert_exporter": "python",
   "pygments_lexer": "ipython3",
   "version": "3.7.5"
  }
 },
 "nbformat": 4,
 "nbformat_minor": 2
}
