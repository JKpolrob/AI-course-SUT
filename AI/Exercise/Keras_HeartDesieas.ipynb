{
 "cells": [
  {
   "cell_type": "code",
   "execution_count": 19,
   "metadata": {},
   "outputs": [],
   "source": [
    "import keras\n",
    "import numpy as np \n",
    "from keras.models import Sequential\n",
    "from keras.layers import Dense"
   ]
  },
  {
   "cell_type": "code",
   "execution_count": 51,
   "metadata": {},
   "outputs": [],
   "source": [
    "model = Sequential()\n",
    "\n",
    "hidden_layer = Dense(5,activation='tanh',input_shape=(2,) ) #จำนวนของ Neuron ใน hidden นั้น และ input 2 ตัว\n",
    "model.add(hidden_layer)\n",
    "\n",
    "hidden_layer1 = Dense(5,activation='tanh') #จำนวนของ Neuron ใน hidden นั้น และ input 2 ตัว\n",
    "model.add(hidden_layer1)\n",
    "\n",
    "output_layer = Dense(1,activation = 'sigmoid')\n",
    "model.add(output_layer)"
   ]
  },
  {
   "cell_type": "code",
   "execution_count": 52,
   "metadata": {},
   "outputs": [],
   "source": [
    "model.compile(optimizer='sgd',\n",
    "              loss='mean_squared_error',\n",
    "              metrics = ['accuracy']) \n",
    "#Soi grad tic gradient descend\n",
    "#loss function"
   ]
  },
  {
   "cell_type": "code",
   "execution_count": 53,
   "metadata": {},
   "outputs": [
    {
     "name": "stdout",
     "output_type": "stream",
     "text": [
      "Model: \"sequential_5\"\n",
      "_________________________________________________________________\n",
      "Layer (type)                 Output Shape              Param #   \n",
      "=================================================================\n",
      "dense_9 (Dense)              (None, 5)                 15        \n",
      "_________________________________________________________________\n",
      "dense_10 (Dense)             (None, 5)                 30        \n",
      "_________________________________________________________________\n",
      "dense_11 (Dense)             (None, 1)                 6         \n",
      "=================================================================\n",
      "Total params: 51\n",
      "Trainable params: 51\n",
      "Non-trainable params: 0\n",
      "_________________________________________________________________\n"
     ]
    }
   ],
   "source": [
    "model.summary()"
   ]
  },
  {
   "cell_type": "code",
   "execution_count": 54,
   "metadata": {},
   "outputs": [],
   "source": [
    "x_train = np.matrix([[1,26.1],[0,22],[1,24],[1,25],[1,18],[0,2104],[0,29.9],[1,20.1],[1,26.5]])"
   ]
  },
  {
   "cell_type": "code",
   "execution_count": 55,
   "metadata": {},
   "outputs": [],
   "source": [
    "y_train = np.matrix([[1],[0],[1],[1],[0],[0],[1],[0],[1]])"
   ]
  },
  {
   "cell_type": "code",
   "execution_count": 56,
   "metadata": {},
   "outputs": [
    {
     "name": "stdout",
     "output_type": "stream",
     "text": [
      "Epoch 1/30\n",
      "9/9 [==============================] - 0s 5ms/step - loss: 0.2702 - accuracy: 0.4444\n",
      "Epoch 2/30\n",
      "9/9 [==============================] - 0s 776us/step - loss: 0.2678 - accuracy: 0.4444\n",
      "Epoch 3/30\n",
      "9/9 [==============================] - 0s 776us/step - loss: 0.2657 - accuracy: 0.4444\n",
      "Epoch 4/30\n",
      "9/9 [==============================] - 0s 886us/step - loss: 0.2637 - accuracy: 0.4444\n",
      "Epoch 5/30\n",
      "9/9 [==============================] - 0s 886us/step - loss: 0.2618 - accuracy: 0.4444\n",
      "Epoch 6/30\n",
      "9/9 [==============================] - 0s 886us/step - loss: 0.2602 - accuracy: 0.4444\n",
      "Epoch 7/30\n",
      "9/9 [==============================] - 0s 886us/step - loss: 0.2589 - accuracy: 0.4444\n",
      "Epoch 8/30\n",
      "9/9 [==============================] - 0s 1ms/step - loss: 0.2578 - accuracy: 0.4444\n",
      "Epoch 9/30\n",
      "9/9 [==============================] - 0s 887us/step - loss: 0.2567 - accuracy: 0.4444\n",
      "Epoch 10/30\n",
      "9/9 [==============================] - 0s 775us/step - loss: 0.2558 - accuracy: 0.4444\n",
      "Epoch 11/30\n",
      "9/9 [==============================] - 0s 997us/step - loss: 0.2549 - accuracy: 0.4444\n",
      "Epoch 12/30\n",
      "9/9 [==============================] - 0s 886us/step - loss: 0.2542 - accuracy: 0.4444\n",
      "Epoch 13/30\n",
      "9/9 [==============================] - 0s 997us/step - loss: 0.2536 - accuracy: 0.4444\n",
      "Epoch 14/30\n",
      "9/9 [==============================] - 0s 887us/step - loss: 0.2530 - accuracy: 0.4444\n",
      "Epoch 15/30\n",
      "9/9 [==============================] - 0s 775us/step - loss: 0.2525 - accuracy: 0.2222\n",
      "Epoch 16/30\n",
      "9/9 [==============================] - 0s 1ms/step - loss: 0.2520 - accuracy: 0.4444\n",
      "Epoch 17/30\n",
      "9/9 [==============================] - 0s 776us/step - loss: 0.2516 - accuracy: 0.4444\n",
      "Epoch 18/30\n",
      "9/9 [==============================] - 0s 886us/step - loss: 0.2513 - accuracy: 0.5556\n",
      "Epoch 19/30\n",
      "9/9 [==============================] - 0s 887us/step - loss: 0.2510 - accuracy: 0.5556\n",
      "Epoch 20/30\n",
      "9/9 [==============================] - 0s 997us/step - loss: 0.2506 - accuracy: 0.5556\n",
      "Epoch 21/30\n",
      "9/9 [==============================] - 0s 887us/step - loss: 0.2505 - accuracy: 0.5556\n",
      "Epoch 22/30\n",
      "9/9 [==============================] - 0s 996us/step - loss: 0.2503 - accuracy: 0.5556\n",
      "Epoch 23/30\n",
      "9/9 [==============================] - 0s 1ms/step - loss: 0.2501 - accuracy: 0.5556\n",
      "Epoch 24/30\n",
      "9/9 [==============================] - 0s 887us/step - loss: 0.2499 - accuracy: 0.5556\n",
      "Epoch 25/30\n",
      "9/9 [==============================] - 0s 997us/step - loss: 0.2498 - accuracy: 0.5556\n",
      "Epoch 26/30\n",
      "9/9 [==============================] - 0s 887us/step - loss: 0.2497 - accuracy: 0.5556\n",
      "Epoch 27/30\n",
      "9/9 [==============================] - 0s 776us/step - loss: 0.2495 - accuracy: 0.5556\n",
      "Epoch 28/30\n",
      "9/9 [==============================] - 0s 887us/step - loss: 0.2494 - accuracy: 0.5556\n",
      "Epoch 29/30\n",
      "9/9 [==============================] - 0s 886us/step - loss: 0.2494 - accuracy: 0.5556\n",
      "Epoch 30/30\n",
      "9/9 [==============================] - 0s 776us/step - loss: 0.2493 - accuracy: 0.5556\n"
     ]
    },
    {
     "data": {
      "text/plain": [
       "<keras.callbacks.callbacks.History at 0x1992e117b88>"
      ]
     },
     "execution_count": 56,
     "metadata": {},
     "output_type": "execute_result"
    }
   ],
   "source": [
    "model.fit(x_train,y_train,epochs =30,batch_size=1)"
   ]
  },
  {
   "cell_type": "code",
   "execution_count": 57,
   "metadata": {},
   "outputs": [
    {
     "name": "stdout",
     "output_type": "stream",
     "text": [
      "[[0.5330691]]\n"
     ]
    }
   ],
   "source": [
    "x_test = np.array([[0,25.5]])\n",
    "print(model.predict(x_test))"
   ]
  },
  {
   "cell_type": "code",
   "execution_count": 58,
   "metadata": {},
   "outputs": [
    {
     "name": "stdout",
     "output_type": "stream",
     "text": [
      "[[0.5337641]]\n"
     ]
    }
   ],
   "source": [
    "x_test = np.array([[1,18]])\n",
    "print(model.predict(x_test))"
   ]
  },
  {
   "cell_type": "code",
   "execution_count": 59,
   "metadata": {},
   "outputs": [
    {
     "data": {
      "text/plain": [
       "[array([[ 0.5752773 ,  0.48211408, -0.19649094,  0.47834602,  0.6372854 ],\n",
       "        [ 0.35201338,  0.3309803 , -0.9200579 , -0.17855105, -0.21650462]],\n",
       "       dtype=float32),\n",
       " array([ 1.3342532e-07, -1.7661093e-09,  0.0000000e+00, -6.1975583e-04,\n",
       "         1.0105314e-05], dtype=float32)]"
      ]
     },
     "execution_count": 59,
     "metadata": {},
     "output_type": "execute_result"
    }
   ],
   "source": [
    "model.layers[0].get_weights() #w11 w12 w13 w21 w22 w23 และ bias"
   ]
  },
  {
   "cell_type": "code",
   "execution_count": 60,
   "metadata": {},
   "outputs": [
    {
     "data": {
      "text/plain": [
       "[array([[-0.0538765 , -0.00681398, -0.32300076, -0.3433351 , -0.4616522 ],\n",
       "        [ 0.25744274, -0.23400049, -0.46938252,  0.18848425, -0.17413567],\n",
       "        [-0.5638677 , -0.54935986, -0.72698927, -0.52273804,  0.20557447],\n",
       "        [ 0.70606494, -0.6236418 ,  0.22522339, -0.23917447, -0.6547271 ],\n",
       "        [ 0.45557255, -0.28923464, -0.4435678 , -0.71435064,  0.17464566]],\n",
       "       dtype=float32),\n",
       " array([ 0.0382374 , -0.02051888,  0.03191178,  0.02451832,  0.02039012],\n",
       "       dtype=float32)]"
      ]
     },
     "execution_count": 60,
     "metadata": {},
     "output_type": "execute_result"
    }
   ],
   "source": [
    "model.layers[1].get_weights() #layer output v11 v21 v31 and bias output"
   ]
  },
  {
   "cell_type": "code",
   "execution_count": null,
   "metadata": {},
   "outputs": [],
   "source": []
  },
  {
   "cell_type": "code",
   "execution_count": null,
   "metadata": {},
   "outputs": [],
   "source": []
  }
 ],
 "metadata": {
  "kernelspec": {
   "display_name": "Python 3",
   "language": "python",
   "name": "python3"
  },
  "language_info": {
   "codemirror_mode": {
    "name": "ipython",
    "version": 3
   },
   "file_extension": ".py",
   "mimetype": "text/x-python",
   "name": "python",
   "nbconvert_exporter": "python",
   "pygments_lexer": "ipython3",
   "version": "3.7.7"
  }
 },
 "nbformat": 4,
 "nbformat_minor": 4
}
