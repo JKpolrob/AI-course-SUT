{
 "cells": [
  {
   "cell_type": "code",
   "execution_count": 60,
   "metadata": {},
   "outputs": [],
   "source": [
    "import pandas as pd"
   ]
  },
  {
   "cell_type": "code",
   "execution_count": 61,
   "metadata": {},
   "outputs": [],
   "source": [
    "#Location of datasets:\n",
    "url =\"https://archive.ics.uci.edu/ml/machine-learning-databases/iris/iris.data\""
   ]
  },
  {
   "cell_type": "code",
   "execution_count": 62,
   "metadata": {},
   "outputs": [],
   "source": [
    "#Assign columns name to the dataset\n",
    "names = ['sepal-length','sepal=weight','petal-length','petal-weight','Class']"
   ]
  },
  {
   "cell_type": "code",
   "execution_count": 63,
   "metadata": {},
   "outputs": [],
   "source": [
    "irisdata = pd.read_csv(url,names=names)"
   ]
  },
  {
   "cell_type": "code",
   "execution_count": 64,
   "metadata": {},
   "outputs": [
    {
     "data": {
      "text/html": [
       "<div>\n",
       "<style scoped>\n",
       "    .dataframe tbody tr th:only-of-type {\n",
       "        vertical-align: middle;\n",
       "    }\n",
       "\n",
       "    .dataframe tbody tr th {\n",
       "        vertical-align: top;\n",
       "    }\n",
       "\n",
       "    .dataframe thead th {\n",
       "        text-align: right;\n",
       "    }\n",
       "</style>\n",
       "<table border=\"1\" class=\"dataframe\">\n",
       "  <thead>\n",
       "    <tr style=\"text-align: right;\">\n",
       "      <th></th>\n",
       "      <th>sepal-length</th>\n",
       "      <th>sepal=weight</th>\n",
       "      <th>petal-length</th>\n",
       "      <th>petal-weight</th>\n",
       "      <th>Class</th>\n",
       "    </tr>\n",
       "  </thead>\n",
       "  <tbody>\n",
       "    <tr>\n",
       "      <th>0</th>\n",
       "      <td>5.1</td>\n",
       "      <td>3.5</td>\n",
       "      <td>1.4</td>\n",
       "      <td>0.2</td>\n",
       "      <td>Iris-setosa</td>\n",
       "    </tr>\n",
       "    <tr>\n",
       "      <th>1</th>\n",
       "      <td>4.9</td>\n",
       "      <td>3.0</td>\n",
       "      <td>1.4</td>\n",
       "      <td>0.2</td>\n",
       "      <td>Iris-setosa</td>\n",
       "    </tr>\n",
       "    <tr>\n",
       "      <th>2</th>\n",
       "      <td>4.7</td>\n",
       "      <td>3.2</td>\n",
       "      <td>1.3</td>\n",
       "      <td>0.2</td>\n",
       "      <td>Iris-setosa</td>\n",
       "    </tr>\n",
       "    <tr>\n",
       "      <th>3</th>\n",
       "      <td>4.6</td>\n",
       "      <td>3.1</td>\n",
       "      <td>1.5</td>\n",
       "      <td>0.2</td>\n",
       "      <td>Iris-setosa</td>\n",
       "    </tr>\n",
       "    <tr>\n",
       "      <th>4</th>\n",
       "      <td>5.0</td>\n",
       "      <td>3.6</td>\n",
       "      <td>1.4</td>\n",
       "      <td>0.2</td>\n",
       "      <td>Iris-setosa</td>\n",
       "    </tr>\n",
       "  </tbody>\n",
       "</table>\n",
       "</div>"
      ],
      "text/plain": [
       "   sepal-length  sepal=weight  petal-length  petal-weight        Class\n",
       "0           5.1           3.5           1.4           0.2  Iris-setosa\n",
       "1           4.9           3.0           1.4           0.2  Iris-setosa\n",
       "2           4.7           3.2           1.3           0.2  Iris-setosa\n",
       "3           4.6           3.1           1.5           0.2  Iris-setosa\n",
       "4           5.0           3.6           1.4           0.2  Iris-setosa"
      ]
     },
     "execution_count": 64,
     "metadata": {},
     "output_type": "execute_result"
    }
   ],
   "source": [
    "irisdata.head()"
   ]
  },
  {
   "cell_type": "code",
   "execution_count": 65,
   "metadata": {},
   "outputs": [],
   "source": [
    "#Preprocessiinf\n",
    "#Assign data from first four columns to X variable\n",
    "X = irisdata.iloc[:,0:4] #เอาทุกแถว หลักที่ 0,1,2,3"
   ]
  },
  {
   "cell_type": "code",
   "execution_count": 66,
   "metadata": {},
   "outputs": [
    {
     "data": {
      "text/html": [
       "<div>\n",
       "<style scoped>\n",
       "    .dataframe tbody tr th:only-of-type {\n",
       "        vertical-align: middle;\n",
       "    }\n",
       "\n",
       "    .dataframe tbody tr th {\n",
       "        vertical-align: top;\n",
       "    }\n",
       "\n",
       "    .dataframe thead th {\n",
       "        text-align: right;\n",
       "    }\n",
       "</style>\n",
       "<table border=\"1\" class=\"dataframe\">\n",
       "  <thead>\n",
       "    <tr style=\"text-align: right;\">\n",
       "      <th></th>\n",
       "      <th>sepal-length</th>\n",
       "      <th>sepal=weight</th>\n",
       "      <th>petal-length</th>\n",
       "      <th>petal-weight</th>\n",
       "    </tr>\n",
       "  </thead>\n",
       "  <tbody>\n",
       "    <tr>\n",
       "      <th>0</th>\n",
       "      <td>5.1</td>\n",
       "      <td>3.5</td>\n",
       "      <td>1.4</td>\n",
       "      <td>0.2</td>\n",
       "    </tr>\n",
       "    <tr>\n",
       "      <th>1</th>\n",
       "      <td>4.9</td>\n",
       "      <td>3.0</td>\n",
       "      <td>1.4</td>\n",
       "      <td>0.2</td>\n",
       "    </tr>\n",
       "    <tr>\n",
       "      <th>2</th>\n",
       "      <td>4.7</td>\n",
       "      <td>3.2</td>\n",
       "      <td>1.3</td>\n",
       "      <td>0.2</td>\n",
       "    </tr>\n",
       "    <tr>\n",
       "      <th>3</th>\n",
       "      <td>4.6</td>\n",
       "      <td>3.1</td>\n",
       "      <td>1.5</td>\n",
       "      <td>0.2</td>\n",
       "    </tr>\n",
       "    <tr>\n",
       "      <th>4</th>\n",
       "      <td>5.0</td>\n",
       "      <td>3.6</td>\n",
       "      <td>1.4</td>\n",
       "      <td>0.2</td>\n",
       "    </tr>\n",
       "    <tr>\n",
       "      <th>...</th>\n",
       "      <td>...</td>\n",
       "      <td>...</td>\n",
       "      <td>...</td>\n",
       "      <td>...</td>\n",
       "    </tr>\n",
       "    <tr>\n",
       "      <th>145</th>\n",
       "      <td>6.7</td>\n",
       "      <td>3.0</td>\n",
       "      <td>5.2</td>\n",
       "      <td>2.3</td>\n",
       "    </tr>\n",
       "    <tr>\n",
       "      <th>146</th>\n",
       "      <td>6.3</td>\n",
       "      <td>2.5</td>\n",
       "      <td>5.0</td>\n",
       "      <td>1.9</td>\n",
       "    </tr>\n",
       "    <tr>\n",
       "      <th>147</th>\n",
       "      <td>6.5</td>\n",
       "      <td>3.0</td>\n",
       "      <td>5.2</td>\n",
       "      <td>2.0</td>\n",
       "    </tr>\n",
       "    <tr>\n",
       "      <th>148</th>\n",
       "      <td>6.2</td>\n",
       "      <td>3.4</td>\n",
       "      <td>5.4</td>\n",
       "      <td>2.3</td>\n",
       "    </tr>\n",
       "    <tr>\n",
       "      <th>149</th>\n",
       "      <td>5.9</td>\n",
       "      <td>3.0</td>\n",
       "      <td>5.1</td>\n",
       "      <td>1.8</td>\n",
       "    </tr>\n",
       "  </tbody>\n",
       "</table>\n",
       "<p>150 rows × 4 columns</p>\n",
       "</div>"
      ],
      "text/plain": [
       "     sepal-length  sepal=weight  petal-length  petal-weight\n",
       "0             5.1           3.5           1.4           0.2\n",
       "1             4.9           3.0           1.4           0.2\n",
       "2             4.7           3.2           1.3           0.2\n",
       "3             4.6           3.1           1.5           0.2\n",
       "4             5.0           3.6           1.4           0.2\n",
       "..            ...           ...           ...           ...\n",
       "145           6.7           3.0           5.2           2.3\n",
       "146           6.3           2.5           5.0           1.9\n",
       "147           6.5           3.0           5.2           2.0\n",
       "148           6.2           3.4           5.4           2.3\n",
       "149           5.9           3.0           5.1           1.8\n",
       "\n",
       "[150 rows x 4 columns]"
      ]
     },
     "execution_count": 66,
     "metadata": {},
     "output_type": "execute_result"
    }
   ],
   "source": [
    "X"
   ]
  },
  {
   "cell_type": "code",
   "execution_count": 67,
   "metadata": {},
   "outputs": [],
   "source": [
    "#Assign data  from first fifth columns to y variable\n",
    "y = irisdata.select_dtypes(include = [object]) #เลือก หลักที่ไม่ใช่ตัวเลข "
   ]
  },
  {
   "cell_type": "code",
   "execution_count": 68,
   "metadata": {},
   "outputs": [
    {
     "data": {
      "text/html": [
       "<div>\n",
       "<style scoped>\n",
       "    .dataframe tbody tr th:only-of-type {\n",
       "        vertical-align: middle;\n",
       "    }\n",
       "\n",
       "    .dataframe tbody tr th {\n",
       "        vertical-align: top;\n",
       "    }\n",
       "\n",
       "    .dataframe thead th {\n",
       "        text-align: right;\n",
       "    }\n",
       "</style>\n",
       "<table border=\"1\" class=\"dataframe\">\n",
       "  <thead>\n",
       "    <tr style=\"text-align: right;\">\n",
       "      <th></th>\n",
       "      <th>Class</th>\n",
       "    </tr>\n",
       "  </thead>\n",
       "  <tbody>\n",
       "    <tr>\n",
       "      <th>0</th>\n",
       "      <td>Iris-setosa</td>\n",
       "    </tr>\n",
       "    <tr>\n",
       "      <th>1</th>\n",
       "      <td>Iris-setosa</td>\n",
       "    </tr>\n",
       "    <tr>\n",
       "      <th>2</th>\n",
       "      <td>Iris-setosa</td>\n",
       "    </tr>\n",
       "    <tr>\n",
       "      <th>3</th>\n",
       "      <td>Iris-setosa</td>\n",
       "    </tr>\n",
       "    <tr>\n",
       "      <th>4</th>\n",
       "      <td>Iris-setosa</td>\n",
       "    </tr>\n",
       "  </tbody>\n",
       "</table>\n",
       "</div>"
      ],
      "text/plain": [
       "         Class\n",
       "0  Iris-setosa\n",
       "1  Iris-setosa\n",
       "2  Iris-setosa\n",
       "3  Iris-setosa\n",
       "4  Iris-setosa"
      ]
     },
     "execution_count": 68,
     "metadata": {},
     "output_type": "execute_result"
    }
   ],
   "source": [
    "y.head()"
   ]
  },
  {
   "cell_type": "code",
   "execution_count": 69,
   "metadata": {},
   "outputs": [
    {
     "data": {
      "text/plain": [
       "array(['Iris-setosa', 'Iris-versicolor', 'Iris-virginica'], dtype=object)"
      ]
     },
     "execution_count": 69,
     "metadata": {},
     "output_type": "execute_result"
    }
   ],
   "source": [
    "y.Class.unique()"
   ]
  },
  {
   "cell_type": "code",
   "execution_count": 70,
   "metadata": {},
   "outputs": [],
   "source": [
    "#Preprocessing เตรียมการข้อมูล\n",
    "from sklearn import preprocessing\n",
    "label = preprocessing.LabelEncoder()"
   ]
  },
  {
   "cell_type": "code",
   "execution_count": 71,
   "metadata": {},
   "outputs": [],
   "source": [
    "#Let's convert catagory to number\n",
    "y = y.apply(label.fit_transform)"
   ]
  },
  {
   "cell_type": "code",
   "execution_count": 72,
   "metadata": {},
   "outputs": [
    {
     "data": {
      "text/html": [
       "<div>\n",
       "<style scoped>\n",
       "    .dataframe tbody tr th:only-of-type {\n",
       "        vertical-align: middle;\n",
       "    }\n",
       "\n",
       "    .dataframe tbody tr th {\n",
       "        vertical-align: top;\n",
       "    }\n",
       "\n",
       "    .dataframe thead th {\n",
       "        text-align: right;\n",
       "    }\n",
       "</style>\n",
       "<table border=\"1\" class=\"dataframe\">\n",
       "  <thead>\n",
       "    <tr style=\"text-align: right;\">\n",
       "      <th></th>\n",
       "      <th>Class</th>\n",
       "    </tr>\n",
       "  </thead>\n",
       "  <tbody>\n",
       "    <tr>\n",
       "      <th>0</th>\n",
       "      <td>0</td>\n",
       "    </tr>\n",
       "    <tr>\n",
       "      <th>1</th>\n",
       "      <td>0</td>\n",
       "    </tr>\n",
       "    <tr>\n",
       "      <th>2</th>\n",
       "      <td>0</td>\n",
       "    </tr>\n",
       "    <tr>\n",
       "      <th>3</th>\n",
       "      <td>0</td>\n",
       "    </tr>\n",
       "    <tr>\n",
       "      <th>4</th>\n",
       "      <td>0</td>\n",
       "    </tr>\n",
       "  </tbody>\n",
       "</table>\n",
       "</div>"
      ],
      "text/plain": [
       "   Class\n",
       "0      0\n",
       "1      0\n",
       "2      0\n",
       "3      0\n",
       "4      0"
      ]
     },
     "execution_count": 72,
     "metadata": {},
     "output_type": "execute_result"
    }
   ],
   "source": [
    "y.head()"
   ]
  },
  {
   "cell_type": "code",
   "execution_count": 73,
   "metadata": {},
   "outputs": [],
   "source": [
    "#Preprocessing to split a raw data into train and test data\n",
    "from sklearn.model_selection import train_test_split"
   ]
  },
  {
   "cell_type": "code",
   "execution_count": 74,
   "metadata": {},
   "outputs": [],
   "source": [
    "X_train, X_test, y_train , y_test = train_test_split(X,y,test_size = 0.2)"
   ]
  },
  {
   "cell_type": "code",
   "execution_count": 75,
   "metadata": {},
   "outputs": [
    {
     "name": "stdout",
     "output_type": "stream",
     "text": [
      "X_train.shape (120, 4)\n",
      "X_test,shape (30, 4)\n"
     ]
    }
   ],
   "source": [
    "print('X_train.shape',X_train.shape)\n",
    "print('X_test,shape',X_test.shape)"
   ]
  },
  {
   "cell_type": "code",
   "execution_count": 76,
   "metadata": {},
   "outputs": [],
   "source": [
    "#Preprocessing for Feature Scaling\n",
    "from sklearn.preprocessing import StandardScaler"
   ]
  },
  {
   "cell_type": "code",
   "execution_count": 77,
   "metadata": {},
   "outputs": [
    {
     "data": {
      "text/plain": [
       "StandardScaler(copy=True, with_mean=True, with_std=True)"
      ]
     },
     "execution_count": 77,
     "metadata": {},
     "output_type": "execute_result"
    }
   ],
   "source": [
    "scaler = StandardScaler()\n",
    "scaler.fit(X_train)"
   ]
  },
  {
   "cell_type": "code",
   "execution_count": 78,
   "metadata": {},
   "outputs": [
    {
     "name": "stdout",
     "output_type": "stream",
     "text": [
      "scaler.fit(X_train) StandardScaler(copy=True, with_mean=True, with_std=True)\n"
     ]
    }
   ],
   "source": [
    "print(\"scaler.fit(X_train)\",scaler.fit(X_train))"
   ]
  },
  {
   "cell_type": "code",
   "execution_count": 79,
   "metadata": {},
   "outputs": [],
   "source": [
    "X_train = scaler.transform(X_train)\n",
    "X_test = scaler.transform(X_test) #ลดscale มาลงมา"
   ]
  },
  {
   "cell_type": "code",
   "execution_count": 80,
   "metadata": {},
   "outputs": [
    {
     "name": "stdout",
     "output_type": "stream",
     "text": [
      "X_train [[-0.05618014 -0.81726092  0.7506965   0.89471344]\n",
      " [ 0.98993278 -0.11339984  0.695055    0.63816478]\n",
      " [ 0.06005463  0.35584088  0.58377201  0.76643911]\n",
      " [-0.52111921  1.52894268 -1.2523973  -1.28595014]\n",
      " [ 0.64122847  0.12122052  0.97326247  0.76643911]\n",
      " [ 0.40875893 -0.3480202   0.30556454  0.12506747]\n",
      " [ 0.06005463 -0.11339984  0.24992305  0.38161613]\n",
      " [ 0.40875893  0.8250816   0.91762098  1.40781075]\n",
      " [ 1.68734138 -0.3480202   1.41839443  0.76643911]\n",
      " [-1.68346689 -0.11339984 -1.36368029 -1.28595014]\n",
      " [ 0.40875893 -0.58264056  0.58377201  0.76643911]\n",
      " [ 0.98993278 -1.28650164  1.14018696  0.76643911]\n",
      " [-0.86982351  0.59046124 -1.14111431 -0.90112716]\n",
      " [ 0.64122847 -0.58264056  1.02890397  1.1512621 ]\n",
      " [-0.40488444  2.70204448 -1.3080388  -1.28595014]\n",
      " [-1.56723212 -1.75574236 -1.36368029 -1.15767581]\n",
      " [-0.17241491 -1.28650164  0.695055    1.02298777]\n",
      " [ 2.15228046  1.76356304  1.64096041  1.27953643]\n",
      " [ 1.10616754  0.35584088  1.19582845  1.40781075]\n",
      " [-1.21852782 -0.11339984 -1.3080388  -1.41422447]\n",
      " [ 0.98993278 -0.11339984  0.80633799  1.40781075]\n",
      " [ 0.98993278  0.59046124  1.08454546  1.66435941]\n",
      " [ 0.1762894   0.8250816   0.41684753  0.50989046]\n",
      " [-0.52111921  1.9981834  -1.14111431 -1.02940149]\n",
      " [-0.75358875  1.05970196 -1.2523973  -1.28595014]\n",
      " [-0.17241491 -1.05188128 -0.13956742 -0.25975551]\n",
      " [-1.45099736  0.35584088 -1.3080388  -1.28595014]\n",
      " [ 1.22240231  0.12122052  0.7506965   1.40781075]\n",
      " [ 1.45487185 -0.11339984  1.19582845  1.1512621 ]\n",
      " [ 1.22240231  0.35584088  1.08454546  1.40781075]\n",
      " [ 0.5249937   0.59046124  1.25146994  1.66435941]\n",
      " [-0.05618014 -0.81726092  0.08299856 -0.00320686]\n",
      " [ 0.1762894  -0.3480202   0.41684753  0.38161613]\n",
      " [-0.17241491  1.76356304 -1.14111431 -1.15767581]\n",
      " [-1.45099736  1.29432232 -1.53060477 -1.28595014]\n",
      " [ 0.64122847 -0.3480202   0.30556454  0.12506747]\n",
      " [-0.40488444 -1.75574236  0.13864006  0.12506747]\n",
      " [-1.10229305 -0.11339984 -1.3080388  -1.28595014]\n",
      " [-0.28864967 -0.58264056  0.63941351  1.02298777]\n",
      " [-0.17241491 -0.58264056  0.41684753  0.12506747]\n",
      " [ 1.57110662  0.35584088  1.25146994  0.76643911]\n",
      " [ 1.10616754 -0.58264056  0.58377201  0.2533418 ]\n",
      " [ 2.15228046 -0.11339984  1.30711144  1.40781075]\n",
      " [-0.40488444 -1.521122    0.02735707 -0.13148119]\n",
      " [-0.52111921  1.9981834  -1.36368029 -1.02940149]\n",
      " [ 2.38474999  1.76356304  1.47403592  1.02298777]\n",
      " [ 0.75746324 -0.58264056  0.47248902  0.38161613]\n",
      " [ 0.5249937   0.8250816   1.02890397  1.53608508]\n",
      " [-1.33476259  0.35584088 -1.19675581 -1.28595014]\n",
      " [-0.98605828 -1.75574236 -0.2508504  -0.25975551]\n",
      " [ 0.29252417 -1.05188128  1.02890397  0.2533418 ]\n",
      " [ 0.29252417 -0.58264056  0.13864006  0.12506747]\n",
      " [ 0.5249937  -0.81726092  0.63941351  0.76643911]\n",
      " [-0.86982351  1.05970196 -1.3080388  -1.28595014]\n",
      " [ 0.1762894  -1.99036272  0.13864006 -0.25975551]\n",
      " [ 0.64122847 -0.58264056  1.02890397  1.27953643]\n",
      " [-0.75358875 -0.81726092  0.08299856  0.2533418 ]\n",
      " [ 0.29252417 -0.3480202   0.52813052  0.2533418 ]\n",
      " [ 0.5249937  -0.58264056  0.7506965   0.38161613]\n",
      " [-0.98605828  1.05970196 -1.19675581 -0.77285283]\n",
      " [ 0.29252417 -0.11339984  0.47248902  0.2533418 ]\n",
      " [-0.86982351  1.76356304 -1.2523973  -1.15767581]\n",
      " [-0.05618014 -1.05188128  0.13864006 -0.00320686]\n",
      " [ 0.5249937  -1.28650164  0.63941351  0.38161613]\n",
      " [-0.63735398  1.52894268 -1.2523973  -1.28595014]\n",
      " [ 0.98993278  0.12122052  0.36120603  0.2533418 ]\n",
      " [-1.79970166 -0.11339984 -1.47496328 -1.41422447]\n",
      " [ 0.98993278  0.12122052  1.02890397  1.53608508]\n",
      " [ 1.80357615 -0.58264056  1.30711144  0.89471344]\n",
      " [ 0.5249937   0.59046124  0.52813052  0.50989046]\n",
      " [-1.10229305 -1.521122   -0.2508504  -0.25975551]\n",
      " [ 1.57110662  1.29432232  1.30711144  1.66435941]\n",
      " [-1.21852782  0.8250816  -1.02983133 -1.28595014]\n",
      " [-0.98605828 -2.45960344 -0.13956742 -0.25975551]\n",
      " [-0.52111921  0.8250816  -1.14111431 -1.28595014]\n",
      " [ 0.40875893 -1.99036272  0.41684753  0.38161613]\n",
      " [ 2.15228046 -0.58264056  1.64096041  1.02298777]\n",
      " [-0.28864967 -0.3480202  -0.08392592  0.12506747]\n",
      " [ 0.5249937  -1.28650164  0.695055    0.89471344]\n",
      " [-0.98605828  0.8250816  -1.19675581 -1.02940149]\n",
      " [-0.05618014 -0.58264056  0.7506965   1.53608508]\n",
      " [-0.40488444  1.05970196 -1.36368029 -1.28595014]\n",
      " [-1.10229305  0.12122052 -1.2523973  -1.41422447]\n",
      " [ 0.87369801 -0.11339984  0.36120603  0.2533418 ]\n",
      " [-0.98605828  1.29432232 -1.3080388  -1.28595014]\n",
      " [-0.05618014 -0.81726092  0.19428155 -0.25975551]\n",
      " [-0.52111921 -0.11339984  0.41684753  0.38161613]\n",
      " [-1.21852782  0.8250816  -1.19675581 -1.28595014]\n",
      " [ 0.98993278  0.59046124  1.08454546  1.1512621 ]\n",
      " [-0.98605828  0.59046124 -1.3080388  -1.28595014]\n",
      " [ 0.87369801 -0.3480202   0.47248902  0.12506747]\n",
      " [ 0.5249937  -1.75574236  0.36120603  0.12506747]\n",
      " [-1.10229305  0.12122052 -1.2523973  -1.41422447]\n",
      " [-0.98605828  1.05970196 -1.36368029 -1.15767581]\n",
      " [ 0.64122847 -0.81726092  0.86197948  0.89471344]\n",
      " [ 0.1762894  -0.81726092  0.7506965   0.50989046]\n",
      " [-1.45099736  0.8250816  -1.3080388  -1.15767581]\n",
      " [-1.21852782 -0.11339984 -1.3080388  -1.15767581]\n",
      " [-0.28864967 -0.11339984  0.19428155  0.12506747]\n",
      " [ 1.10616754 -0.11339984  0.97326247  1.1512621 ]\n",
      " [-0.40488444 -1.521122   -0.02828443 -0.25975551]\n",
      " [-0.86982351  0.8250816  -1.2523973  -1.28595014]\n",
      " [-0.86982351  1.05970196 -1.3080388  -1.15767581]\n",
      " [ 0.64122847  0.35584088  0.41684753  0.38161613]\n",
      " [-1.33476259  0.35584088 -1.36368029 -1.28595014]\n",
      " [ 2.03604569 -0.11339984  1.58531891  1.1512621 ]\n",
      " [ 1.22240231  0.12122052  0.91762098  1.1512621 ]\n",
      " [-1.45099736  0.12122052 -1.2523973  -1.28595014]\n",
      " [ 1.22240231  0.12122052  0.63941351  0.38161613]\n",
      " [ 2.15228046 -1.05188128  1.75224339  1.40781075]\n",
      " [-0.75358875  0.8250816  -1.3080388  -1.28595014]\n",
      " [-1.68346689  0.35584088 -1.36368029 -1.28595014]\n",
      " [-0.75358875  2.46742412 -1.2523973  -1.41422447]\n",
      " [-0.28864967 -0.11339984  0.41684753  0.38161613]\n",
      " [-0.28864967 -0.81726092  0.24992305  0.12506747]\n",
      " [-0.05618014 -0.81726092  0.7506965   0.89471344]\n",
      " [-0.98605828 -0.11339984 -1.19675581 -1.28595014]\n",
      " [-0.98605828  0.35584088 -1.41932179 -1.28595014]\n",
      " [-1.10229305 -1.28650164  0.41684753  0.63816478]\n",
      " [-0.86982351  1.52894268 -1.2523973  -1.02940149]]\n",
      "X_test [[-0.40488444 -1.28650164  0.13864006  0.12506747]\n",
      " [-0.40488444 -1.05188128  0.36120603 -0.00320686]\n",
      " [-0.86982351  1.76356304 -1.19675581 -1.28595014]\n",
      " [-0.52111921  0.8250816  -1.2523973  -1.02940149]\n",
      " [ 0.98993278  0.12122052  0.52813052  0.38161613]\n",
      " [ 0.64122847  0.35584088  0.86197948  1.40781075]\n",
      " [-1.68346689 -0.3480202  -1.3080388  -1.28595014]\n",
      " [ 1.57110662 -0.11339984  1.14018696  0.50989046]\n",
      " [-0.17241491 -0.11339984  0.24992305 -0.00320686]\n",
      " [ 0.06005463 -0.11339984  0.7506965   0.76643911]\n",
      " [-0.17241491 -0.58264056  0.19428155  0.12506747]\n",
      " [-0.05618014  2.23280376 -1.41932179 -1.28595014]\n",
      " [ 0.75746324 -0.11339984  1.14018696  1.27953643]\n",
      " [ 0.1762894  -1.99036272  0.695055    0.38161613]\n",
      " [ 0.75746324 -0.11339984  0.97326247  0.76643911]\n",
      " [ 1.33863708  0.35584088  0.52813052  0.2533418 ]\n",
      " [-0.17241491 -0.3480202   0.24992305  0.12506747]\n",
      " [-0.17241491  3.1712852  -1.2523973  -1.02940149]\n",
      " [-0.28864967 -1.28650164  0.08299856 -0.13148119]\n",
      " [ 0.29252417 -0.11339984  0.63941351  0.76643911]\n",
      " [ 0.75746324  0.35584088  0.7506965   1.02298777]\n",
      " [-0.86982351  1.76356304 -1.02983133 -1.02940149]\n",
      " [-0.86982351 -1.28650164 -0.41777489 -0.13148119]\n",
      " [ 0.29252417 -0.58264056  0.52813052 -0.00320686]\n",
      " [ 0.75746324 -0.11339984  0.80633799  1.02298777]\n",
      " [-1.21852782  0.12122052 -1.19675581 -1.28595014]\n",
      " [ 0.1762894  -0.11339984  0.58377201  0.76643911]\n",
      " [ 0.5249937  -0.3480202   1.02890397  0.76643911]\n",
      " [-0.98605828  0.8250816  -1.2523973  -1.28595014]\n",
      " [-1.10229305  0.12122052 -1.2523973  -1.41422447]]\n"
     ]
    }
   ],
   "source": [
    "print('X_train',X_train)\n",
    "print('X_test',X_test) "
   ]
  },
  {
   "cell_type": "code",
   "execution_count": 81,
   "metadata": {},
   "outputs": [],
   "source": [
    "#Model Training Processing \n",
    "#Create three layers of 10 nodes each\n",
    "#Set Maximum Iteration equal to 1000"
   ]
  },
  {
   "cell_type": "code",
   "execution_count": 82,
   "metadata": {},
   "outputs": [],
   "source": [
    "from sklearn.neural_network import MLPClassifier"
   ]
  },
  {
   "cell_type": "code",
   "execution_count": 83,
   "metadata": {},
   "outputs": [
    {
     "data": {
      "text/plain": [
       "MLPClassifier(activation='relu', alpha=0.0001, batch_size='auto', beta_1=0.9,\n",
       "              beta_2=0.999, early_stopping=False, epsilon=1e-08,\n",
       "              hidden_layer_sizes=(10, 10, 10), learning_rate='constant',\n",
       "              learning_rate_init=0.001, max_fun=15000, max_iter=1000,\n",
       "              momentum=0.9, n_iter_no_change=10, nesterovs_momentum=True,\n",
       "              power_t=0.5, random_state=None, shuffle=True, solver='adam',\n",
       "              tol=0.0001, validation_fraction=0.1, verbose=False,\n",
       "              warm_start=False)"
      ]
     },
     "execution_count": 83,
     "metadata": {},
     "output_type": "execute_result"
    }
   ],
   "source": [
    "mlp = MLPClassifier(hidden_layer_sizes=(10,10,10), max_iter=1000) \n",
    "#มี 3 hidden layer แต่ล่ะhidden มี 10 node\n",
    "#Default Activation function is relu you can change activation \n",
    "mlp.fit(X_train,y_train.values.ravel())"
   ]
  },
  {
   "cell_type": "code",
   "execution_count": 84,
   "metadata": {},
   "outputs": [],
   "source": [
    "#Predicted Test\n",
    "predicted_y = mlp.predict(X_test)"
   ]
  },
  {
   "cell_type": "code",
   "execution_count": 89,
   "metadata": {},
   "outputs": [
    {
     "name": "stdout",
     "output_type": "stream",
     "text": [
      "Predicted of X test: [1 1 0 0 1 2 0 2 1 2 1 0 2 1 2 1 1 0 1 2 2 0 1 1 2 0 2 2 0 0]\n",
      "y_test      Class\n",
      "89       1\n",
      "90       1\n",
      "46       0\n",
      "31       0\n",
      "86       1\n",
      "115      2\n",
      "8        0\n",
      "129      2\n",
      "95       1\n",
      "149      2\n",
      "99       1\n",
      "14       0\n",
      "104      2\n",
      "119      2\n",
      "116      2\n",
      "50       1\n",
      "96       1\n",
      "15       0\n",
      "69       1\n",
      "127      2\n",
      "110      2\n",
      "44       0\n",
      "98       1\n",
      "73       1\n",
      "147      2\n",
      "30       0\n",
      "138      2\n",
      "103      2\n",
      "7        0\n",
      "37       0\n"
     ]
    }
   ],
   "source": [
    "print(\"Predicted of X test:\",predicted_y)\n",
    "print(\"y_test\",y_test)"
   ]
  },
  {
   "cell_type": "code",
   "execution_count": 86,
   "metadata": {},
   "outputs": [],
   "source": [
    "#Evaluting the model \n",
    "from sklearn.metrics import classification_report, confusion_matrix"
   ]
  },
  {
   "cell_type": "code",
   "execution_count": 87,
   "metadata": {},
   "outputs": [
    {
     "name": "stdout",
     "output_type": "stream",
     "text": [
      "Confusion Matrix: \n",
      " [[ 9  0  0]\n",
      " [ 0 10  0]\n",
      " [ 0  1 10]]\n"
     ]
    }
   ],
   "source": [
    "print(\"Confusion Matrix: \\n\",confusion_matrix(y_test,predicted_y))\n"
   ]
  },
  {
   "cell_type": "code",
   "execution_count": 88,
   "metadata": {},
   "outputs": [
    {
     "name": "stdout",
     "output_type": "stream",
     "text": [
      "Model Score Index: \n",
      "               precision    recall  f1-score   support\n",
      "\n",
      "           0       1.00      1.00      1.00         9\n",
      "           1       0.91      1.00      0.95        10\n",
      "           2       1.00      0.91      0.95        11\n",
      "\n",
      "    accuracy                           0.97        30\n",
      "   macro avg       0.97      0.97      0.97        30\n",
      "weighted avg       0.97      0.97      0.97        30\n",
      "\n"
     ]
    }
   ],
   "source": [
    "#Evalutiong Preformance \n",
    "print('Model Score Index: \\n',classification_report(y_test,predicted_y))"
   ]
  },
  {
   "cell_type": "code",
   "execution_count": null,
   "metadata": {},
   "outputs": [],
   "source": []
  }
 ],
 "metadata": {
  "kernelspec": {
   "display_name": "Python 3",
   "language": "python",
   "name": "python3"
  },
  "language_info": {
   "codemirror_mode": {
    "name": "ipython",
    "version": 3
   },
   "file_extension": ".py",
   "mimetype": "text/x-python",
   "name": "python",
   "nbconvert_exporter": "python",
   "pygments_lexer": "ipython3",
   "version": "3.7.5"
  }
 },
 "nbformat": 4,
 "nbformat_minor": 4
}
