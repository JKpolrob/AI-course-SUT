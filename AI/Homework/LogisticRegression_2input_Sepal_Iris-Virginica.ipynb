{
 "cells": [
  {
   "cell_type": "code",
   "execution_count": 1,
   "metadata": {},
   "outputs": [],
   "source": [
    "from sklearn.linear_model import LogisticRegression\n",
    "from sklearn import datasets\n",
    "import numpy as np\n",
    "%matplotlib inline\n",
    "import matplotlib.pyplot as plt"
   ]
  },
  {
   "cell_type": "code",
   "execution_count": 2,
   "metadata": {},
   "outputs": [],
   "source": [
    "iris = datasets.load_iris()"
   ]
  },
  {
   "cell_type": "code",
   "execution_count": 3,
   "metadata": {},
   "outputs": [],
   "source": [
    "X = iris[\"data\"][:,(0,1)] # Petal Length & Petal Width"
   ]
  },
  {
   "cell_type": "code",
   "execution_count": 4,
   "metadata": {},
   "outputs": [],
   "source": [
    "y = (iris[\"target\"]==2).astype(np.int)"
   ]
  },
  {
   "cell_type": "code",
   "execution_count": 5,
   "metadata": {},
   "outputs": [
    {
     "data": {
      "text/plain": [
       "LogisticRegression(C=1.0, class_weight=None, dual=False, fit_intercept=True,\n",
       "                   intercept_scaling=1, l1_ratio=None, max_iter=100,\n",
       "                   multi_class='auto', n_jobs=None, penalty='l2',\n",
       "                   random_state=None, solver='lbfgs', tol=0.0001, verbose=0,\n",
       "                   warm_start=False)"
      ]
     },
     "execution_count": 5,
     "metadata": {},
     "output_type": "execute_result"
    }
   ],
   "source": [
    "model = LogisticRegression()\n",
    "model.fit(X,y)"
   ]
  },
  {
   "cell_type": "code",
   "execution_count": 6,
   "metadata": {},
   "outputs": [],
   "source": [
    "X1_line = np.linspace(6,6.7,1000).reshape(-1,1)\n",
    "#ย้ายสมการหาค่า X2\n",
    "X2_line = -(model.coef_[0,0]*X1_line+model.intercept_)/model.coef_[0,1]"
   ]
  },
  {
   "cell_type": "code",
   "execution_count": 7,
   "metadata": {},
   "outputs": [
    {
     "data": {
      "image/png": "[encoded data removed]",
      "text/plain": [
       "<Figure size 432x288 with 1 Axes>"
      ]
     },
     "metadata": {
      "needs_background": "light"
     },
     "output_type": "display_data"
    }
   ],
   "source": [
    "plt.plot(X1_line,X2_line,'r',label = 'Classification')\n",
    "#plot for separate data Iris & Not Iris\n",
    "plt.plot(X[:,0][y==1],X[:,1][y==1],'y.',label = \"Iris-Virginica\")\n",
    "plt.plot(X[:,0][y==0],X[:,1][y==0],'b.',label = \"Not Iris-Virginica\")\n",
    "plt.xlabel('Sepal Length')\n",
    "plt.ylabel('Sepal Width')\n",
    "plt.legend(loc='upper left',fontsize=14)\n",
    "plt.show()"
   ]
  },
  {
   "cell_type": "code",
   "execution_count": 8,
   "metadata": {},
   "outputs": [
    {
     "name": "stdout",
     "output_type": "stream",
     "text": [
      "Accuracy: 0.8\n",
      "theta1 2.2219589971988363\n",
      "theta2 -0.5127043788645904\n",
      "theta0 [-12.52969694]\n"
     ]
    }
   ],
   "source": [
    "print('Accuracy:',model.score(X,y))\n",
    "print('theta1',model.coef_[0,0])\n",
    "print('theta2',model.coef_[0,1])\n",
    "print('theta0',model.intercept_)"
   ]
  },
  {
   "cell_type": "code",
   "execution_count": 12,
   "metadata": {},
   "outputs": [
    {
     "name": "stdout",
     "output_type": "stream",
     "text": [
      "Input your Sepal Length:6.5\n",
      "Input your Sepal Width:3\n",
      "Class of Iris: Virginica\n"
     ]
    }
   ],
   "source": [
    "#ทดสอบความแม่นยำของโปรแกรม โดย นำค่า Sepal length & width ที่คิดขึ้นมาเอง\n",
    "SepalL = float(input(\"Input your Sepal Length:\"))\n",
    "SepalW = float(input(\"Input your Sepal Width:\"))\n",
    "X_new = np.array([SepalL,SepalW]).reshape(-1,2)\n",
    "y_predict = model.predict(X_new)\n",
    "if y_predict==1:\n",
    "    print('Class of Iris: Virginica')\n",
    "else:\n",
    "    print('Class of Iris: Not Virginica')"
   ]
  },
  {
   "cell_type": "code",
   "execution_count": null,
   "metadata": {},
   "outputs": [],
   "source": []
  }
 ],
 "metadata": {
  "kernelspec": {
   "display_name": "Python 3",
   "language": "python",
   "name": "python3"
  },
  "language_info": {
   "codemirror_mode": {
    "name": "ipython",
    "version": 3
   },
   "file_extension": ".py",
   "mimetype": "text/x-python",
   "name": "python",
   "nbconvert_exporter": "python",
   "pygments_lexer": "ipython3",
   "version": "3.7.7"
  }
 },
 "nbformat": 4,
 "nbformat_minor": 2
}
