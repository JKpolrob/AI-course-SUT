{
 "cells": [
  {
   "cell_type": "code",
   "execution_count": 10,
   "metadata": {},
   "outputs": [
    {
     "name": "stdout",
     "output_type": "stream",
     "text": [
      "Input num1:15\n",
      "Input num2:20\n",
      "Input num3:10\n",
      "Maximum Output is : 20\n"
     ]
    }
   ],
   "source": [
    "num1 = int(input('Input num1:'))\n",
    "num2 = int(input('Input num2:'))\n",
    "num3 = int(input('Input num3:'))\n",
    "J=[num1,num2,num3]\n",
    "\n",
    "MAX = J[0]\n",
    "\n",
    "for i in range(0,len(J),1):\n",
    "    if MAX<J[i]:\n",
    "        MAX = J[i]\n",
    "\n",
    "print('Maximum Output is :',MAX)\n"
   ]
  },
  {
   "cell_type": "code",
   "execution_count": 11,
   "metadata": {},
   "outputs": [
    {
     "name": "stdout",
     "output_type": "stream",
     "text": [
      "Input num1:15\n",
      "Input num2:20\n",
      "Input num3:10\n",
      "Maximum Output is : 20\n"
     ]
    }
   ],
   "source": [
    "num1 = int(input('Input num1:'))\n",
    "num2 = int(input('Input num2:'))\n",
    "num3 = int(input('Input num3:'))\n",
    "J=[num1,num2,num3]\n",
    "\n",
    "Max = (max(J))\n",
    "print('Maximum Output is :',Max)"
   ]
  },
  {
   "cell_type": "code",
   "execution_count": null,
   "metadata": {},
   "outputs": [],
   "source": []
  }
 ],
 "metadata": {
  "kernelspec": {
   "display_name": "Python 3",
   "language": "python",
   "name": "python3"
  },
  "language_info": {
   "codemirror_mode": {
    "name": "ipython",
    "version": 3
   },
   "file_extension": ".py",
   "mimetype": "text/x-python",
   "name": "python",
   "nbconvert_exporter": "python",
   "pygments_lexer": "ipython3",
   "version": "3.7.5"
  }
 },
 "nbformat": 4,
 "nbformat_minor": 2
}
