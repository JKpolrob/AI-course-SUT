{
 "cells": [
  {
   "cell_type": "code",
   "execution_count": 6,
   "metadata": {},
   "outputs": [
    {
     "name": "stdout",
     "output_type": "stream",
     "text": [
      "Numbers of Students:1\n",
      "Please input score of Student1.\n",
      "Test1 : 15\n",
      "Test2 : 12\n",
      "Test3 : 13\n",
      "\n",
      "\n",
      "Average score of Student1 is 13.3, Grade F.\n"
     ]
    }
   ],
   "source": [
    "NumSTD = int(input('Numbers of Students:'))\n",
    "#สร้างห้องว่างในการเก็บค่าต่างๆไว้\n",
    "test1=[]\n",
    "test2=[]\n",
    "test3=[]\n",
    "total=[]\n",
    "#input section for input score\n",
    "for i in range(NumSTD):\n",
    "    print('Please input score of Student%d.'%(i+1))\n",
    "    #เก็บค่าการทดสอบแต่ล่ะครั้งไว้ในห้องว่างโดยใช้ .append เข้าไปในช่องว่างของแต่ล่ะแบบทดสอบ\n",
    "    test1.append(int(input('Test1 : ')))\n",
    "    test2.append(int(input('Test2 : ')))\n",
    "    test3.append(int(input('Test3 : ')))\n",
    "    total.append(test1[i]*0.3+test2[i]*0.3+test3[i]*0.4)\n",
    "    #เว้นบรรทัด\n",
    "    print('\\n')\n",
    "\n",
    "    #function\n",
    "def cal_grade(score):\n",
    "    if (score>=80):\n",
    "        G = 'A'\n",
    "    elif (score>=70) and (score<80):\n",
    "        G = 'B'\n",
    "    elif (score>=60) and (score<70):\n",
    "        G = 'C'\n",
    "    elif (score>=50) and (score<60):\n",
    "        G = 'D'\n",
    "    elif (score<50):\n",
    "        G = 'F'\n",
    "    else:\n",
    "        G = 'Error for Calculate'\n",
    "    return G\n",
    "\n",
    "#display of output\n",
    "for j in range(NumSTD):\n",
    "    #แสดงค่าออกมา\n",
    "    print('Average score of Student{1} is {0:,.1f}, Grade {2}.'.format(total[i],j+1,cal_grade(total[j])))"
   ]
  },
  {
   "cell_type": "code",
   "execution_count": null,
   "metadata": {},
   "outputs": [],
   "source": []
  }
 ],
 "metadata": {
  "kernelspec": {
   "display_name": "Python 3",
   "language": "python",
   "name": "python3"
  },
  "language_info": {
   "codemirror_mode": {
    "name": "ipython",
    "version": 3
   },
   "file_extension": ".py",
   "mimetype": "text/x-python",
   "name": "python",
   "nbconvert_exporter": "python",
   "pygments_lexer": "ipython3",
   "version": "3.7.5"
  }
 },
 "nbformat": 4,
 "nbformat_minor": 2
}
