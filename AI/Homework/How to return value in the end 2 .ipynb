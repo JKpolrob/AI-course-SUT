{
 "cells": [
  {
   "cell_type": "code",
   "execution_count": 1,
   "metadata": {},
   "outputs": [
    {
     "name": "stdout",
     "output_type": "stream",
     "text": [
      "Numbers of student :4\n"
     ]
    }
   ],
   "source": [
    "NumSTD = int(input('Numbers of Students:'))\n",
    "T1=[]\n",
    "T2=[]\n",
    "T3=[]\n",
    "for i in range(NumSTD):\n",
    "    print('Please input score of Student%d.'%(i+1))\n",
    "    test1 = int(input('Test1 : '))\n",
    "    test2 = int(input('Test2 : '))\n",
    "    test3 = int(input('Test3 : '))  "
   ]
  },
  {
   "cell_type": "code",
   "execution_count": null,
   "metadata": {},
   "outputs": [],
   "source": []
  }
 ],
 "metadata": {
  "kernelspec": {
   "display_name": "Python 3",
   "language": "python",
   "name": "python3"
  },
  "language_info": {
   "codemirror_mode": {
    "name": "ipython",
    "version": 3
   },
   "file_extension": ".py",
   "mimetype": "text/x-python",
   "name": "python",
   "nbconvert_exporter": "python",
   "pygments_lexer": "ipython3",
   "version": "3.7.5"
  }
 },
 "nbformat": 4,
 "nbformat_minor": 2
}
